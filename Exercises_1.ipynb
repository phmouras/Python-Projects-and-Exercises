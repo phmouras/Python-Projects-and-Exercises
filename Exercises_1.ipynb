{
  "nbformat": 4,
  "nbformat_minor": 0,
  "metadata": {
    "colab": {
      "name": "Exercises_1.ipynb",
      "provenance": [],
      "collapsed_sections": [],
      "authorship_tag": "ABX9TyN9eWN+6Ea2LlhSgPnfidbg",
      "include_colab_link": true
    },
    "kernelspec": {
      "name": "python3",
      "display_name": "Python 3"
    },
    "language_info": {
      "name": "python"
    }
  },
  "cells": [
    {
      "cell_type": "markdown",
      "metadata": {
        "id": "view-in-github",
        "colab_type": "text"
      },
      "source": [
        "<a href=\"https://colab.research.google.com/github/phmouras/Python_Exercises/blob/main/Exercises_1.ipynb\" target=\"_parent\"><img src=\"https://colab.research.google.com/assets/colab-badge.svg\" alt=\"Open In Colab\"/></a>"
      ]
    },
    {
      "cell_type": "markdown",
      "metadata": {
        "id": "aTa-kBq9BYow"
      },
      "source": [
        ""
      ]
    },
    {
      "cell_type": "markdown",
      "metadata": {
        "id": "7ujwvaDSCpMq"
      },
      "source": [
        "Exercício 1"
      ]
    },
    {
      "cell_type": "code",
      "metadata": {
        "colab": {
          "base_uri": "https://localhost:8080/"
        },
        "id": "-2_Phpcsk9mh",
        "outputId": "efecfed2-dccb-44b0-9786-414996cc08c7"
      },
      "source": [
        "t=3\n",
        "v=343\n",
        "\n",
        "s=v*t\n",
        "print(s)"
      ],
      "execution_count": null,
      "outputs": [
        {
          "output_type": "stream",
          "text": [
            "1029\n"
          ],
          "name": "stdout"
        }
      ]
    },
    {
      "cell_type": "markdown",
      "metadata": {
        "id": "CPQQt-EvCqn6"
      },
      "source": [
        "Exercício 2"
      ]
    },
    {
      "cell_type": "code",
      "metadata": {
        "colab": {
          "base_uri": "https://localhost:8080/"
        },
        "id": "9IOejjk7k9ry",
        "outputId": "b7d774c4-cd65-43a4-a8ba-ebe01c75352a"
      },
      "source": [
        "import math\n",
        "a=3\n",
        "b=-4\n",
        "c=-10\n",
        "\n",
        "delta=b**2 - 4*a*c\n",
        "\n",
        "x1=(-b + math.sqrt(delta))/(2*a)\n",
        "\n",
        "x2=(-b - math.sqrt(delta))/(2*a)\n",
        "\n",
        "print('As raízes são')\n",
        "print(x1,x2)\n",
        "\n",
        "\n",
        "\n"
      ],
      "execution_count": null,
      "outputs": [
        {
          "output_type": "stream",
          "text": [
            "As raízes são\n",
            "2.610317298281767 -1.2769839649484336\n"
          ],
          "name": "stdout"
        }
      ]
    },
    {
      "cell_type": "markdown",
      "metadata": {
        "id": "31NTF8jTCsjS"
      },
      "source": [
        "Exercício 3"
      ]
    },
    {
      "cell_type": "code",
      "metadata": {
        "colab": {
          "base_uri": "https://localhost:8080/"
        },
        "id": "33_cTKHGrTeM",
        "outputId": "41376119-6cfc-4ca0-fa63-49bec349d987"
      },
      "source": [
        "tg = 5/0.5\n",
        "\n",
        "print(tg)"
      ],
      "execution_count": null,
      "outputs": [
        {
          "output_type": "stream",
          "text": [
            "10.0\n"
          ],
          "name": "stdout"
        }
      ]
    },
    {
      "cell_type": "markdown",
      "metadata": {
        "id": "yk3lWo2nCuT6"
      },
      "source": [
        "Exercício 4\n"
      ]
    },
    {
      "cell_type": "code",
      "metadata": {
        "colab": {
          "base_uri": "https://localhost:8080/"
        },
        "id": "PCVwE34Sk9uh",
        "outputId": "8ea6cc1f-0e1a-4935-8bb3-3b46e1b2ffcc"
      },
      "source": [
        "M=70\n",
        "A=1.79\n",
        "\n",
        "IMC=M/A**2\n",
        "\n",
        "print(IMC)"
      ],
      "execution_count": null,
      "outputs": [
        {
          "output_type": "stream",
          "text": [
            "21.847008520333322\n"
          ],
          "name": "stdout"
        }
      ]
    },
    {
      "cell_type": "markdown",
      "metadata": {
        "id": "UNn6_synCw4K"
      },
      "source": [
        "Exercício 5"
      ]
    },
    {
      "cell_type": "code",
      "metadata": {
        "colab": {
          "base_uri": "https://localhost:8080/"
        },
        "id": "oA7diV6Kk9xJ",
        "outputId": "a10e32ea-9eed-4a8c-b904-488e35e54a35"
      },
      "source": [
        "import math\n",
        "\n",
        "g=9.8\n",
        "h=3\n",
        "v=math.sqrt(2*g*h)\n",
        "\n",
        "print('A velocidade ao chegar no solo é:', v)\n",
        "\n",
        "\n",
        "t=math.sqrt(2*h/g)\n",
        "\n",
        "print('O tempo de queda é:', t)\n"
      ],
      "execution_count": null,
      "outputs": [
        {
          "output_type": "stream",
          "text": [
            "A velocidade ao chegar no solo é: 7.6681158050723255\n",
            "O tempo de queda é: 0.7824607964359516\n"
          ],
          "name": "stdout"
        }
      ]
    }
  ]
}