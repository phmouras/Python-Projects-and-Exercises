{
  "nbformat": 4,
  "nbformat_minor": 0,
  "metadata": {
    "colab": {
      "name": "Exercices8.ipynb",
      "provenance": [],
      "authorship_tag": "ABX9TyPTmerWQTIug9Pxf6jbTAZk",
      "include_colab_link": true
    },
    "kernelspec": {
      "name": "python3",
      "display_name": "Python 3"
    },
    "language_info": {
      "name": "python"
    }
  },
  "cells": [
    {
      "cell_type": "markdown",
      "metadata": {
        "id": "view-in-github",
        "colab_type": "text"
      },
      "source": [
        "<a href=\"https://colab.research.google.com/github/phmouras/Python_Exercises/blob/main/Exercices8.ipynb\" target=\"_parent\"><img src=\"https://colab.research.google.com/assets/colab-badge.svg\" alt=\"Open In Colab\"/></a>"
      ]
    },
    {
      "cell_type": "markdown",
      "metadata": {
        "id": "fjxUkvhDymhm"
      },
      "source": [
        "Exercício 1"
      ]
    },
    {
      "cell_type": "code",
      "metadata": {
        "id": "VZue6YIHohbg",
        "colab": {
          "base_uri": "https://localhost:8080/"
        },
        "outputId": "2da27874-cec9-4bc7-d4c3-20442d869571"
      },
      "source": [
        "fruta = \"banana\"\n",
        "\n",
        "for i in range(len(fruta)):\n",
        "  print(\" \"*i,fruta[i])\n"
      ],
      "execution_count": null,
      "outputs": [
        {
          "output_type": "stream",
          "name": "stdout",
          "text": [
            " b\n",
            "  a\n",
            "   n\n",
            "    a\n",
            "     n\n",
            "      a\n"
          ]
        }
      ]
    },
    {
      "cell_type": "markdown",
      "metadata": {
        "id": "U3DcfCrMyrFV"
      },
      "source": [
        "Exercício 2"
      ]
    },
    {
      "cell_type": "code",
      "metadata": {
        "id": "T9IlEkQAyslt",
        "outputId": "f72dde50-60a0-4261-d8a5-a5603f052934",
        "colab": {
          "base_uri": "https://localhost:8080/"
        }
      },
      "source": [
        "def reverso(palavra):\n",
        "  p = palavra[::-1] ##slicing\n",
        "  for c in p:\n",
        "    print(c)\n",
        "reverso('banana')"
      ],
      "execution_count": 1,
      "outputs": [
        {
          "output_type": "stream",
          "name": "stdout",
          "text": [
            "a\n",
            "n\n",
            "a\n",
            "n\n",
            "a\n",
            "b\n"
          ]
        }
      ]
    },
    {
      "cell_type": "markdown",
      "metadata": {
        "id": "pMJSGjnZY7YG"
      },
      "source": [
        "Exercícios:"
      ]
    },
    {
      "cell_type": "markdown",
      "metadata": {
        "id": "6SiqfY_2Y_E9"
      },
      "source": [
        "1."
      ]
    },
    {
      "cell_type": "code",
      "metadata": {
        "id": "B8lq3adpY_8G",
        "outputId": "8cba1529-8fb7-4776-9a33-eb5698e88b40",
        "colab": {
          "base_uri": "https://localhost:8080/",
          "height": 352
        }
      },
      "source": [
        "\n",
        "def posicao(posicao_inicial, velocidade, t0, tf):\n",
        "  velocidade = velocidade / 60\n",
        "  posicao_final = posicao_inicial + velocidade * (tf - t0)\n",
        "  return posicao_final\n",
        "\n",
        "ti = 0  # minutos\n",
        "di = 0\n",
        "df = 5  # km\n",
        "\n",
        "lista_tempos = [ti]\n",
        "lista_posicao = [di]\n",
        "while di < df:\n",
        "  di = posicao(di, 12, ti, ti+1)\n",
        "  ti = ti + 1\n",
        "  lista_tempos.append(ti)\n",
        "  lista_posicao.append(di)\n",
        "  \n",
        "print(lista_tempos)\n",
        "print(lista_posicao)\n",
        "\n",
        "import matplotlib.pyplot as plt\n",
        "\n",
        "plt.plot(lista_tempos,lista_posicao)\n",
        "plt.xlabel(\"tempo s\")\n",
        "plt.ylabel(\"distância m\")\n"
      ],
      "execution_count": 5,
      "outputs": [
        {
          "output_type": "stream",
          "name": "stdout",
          "text": [
            "[0, 1, 2, 3, 4, 5, 6, 7, 8, 9, 10, 11, 12, 13, 14, 15, 16, 17, 18, 19, 20, 21, 22, 23, 24, 25]\n",
            "[0, 0.2, 0.4, 0.6000000000000001, 0.8, 1.0, 1.2, 1.4, 1.5999999999999999, 1.7999999999999998, 1.9999999999999998, 2.1999999999999997, 2.4, 2.6, 2.8000000000000003, 3.0000000000000004, 3.2000000000000006, 3.400000000000001, 3.600000000000001, 3.800000000000001, 4.000000000000001, 4.200000000000001, 4.400000000000001, 4.600000000000001, 4.800000000000002, 5.000000000000002]\n"
          ]
        },
        {
          "output_type": "execute_result",
          "data": {
            "text/plain": [
              "Text(0, 0.5, 'distância m')"
            ]
          },
          "metadata": {},
          "execution_count": 5
        },
        {
          "output_type": "display_data",
          "data": {
            "image/png": "[encoded data removed]",
            "text/plain": [
              "<Figure size 432x288 with 1 Axes>"
            ]
          },
          "metadata": {
            "needs_background": "light"
          }
        }
      ]
    }
  ]
}