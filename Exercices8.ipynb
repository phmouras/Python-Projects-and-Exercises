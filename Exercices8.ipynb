{
  "nbformat": 4,
  "nbformat_minor": 0,
  "metadata": {
    "colab": {
      "name": "Exercices8.ipynb",
      "provenance": [],
      "authorship_tag": "ABX9TyOlZzh2Xvo1T5x35F3bgfnW",
      "include_colab_link": true
    },
    "kernelspec": {
      "name": "python3",
      "display_name": "Python 3"
    },
    "language_info": {
      "name": "python"
    }
  },
  "cells": [
    {
      "cell_type": "markdown",
      "metadata": {
        "id": "view-in-github",
        "colab_type": "text"
      },
      "source": [
        "<a href=\"https://colab.research.google.com/github/phmouras/Python_Exercises/blob/main/Exercices8.ipynb\" target=\"_parent\"><img src=\"https://colab.research.google.com/assets/colab-badge.svg\" alt=\"Open In Colab\"/></a>"
      ]
    },
    {
      "cell_type": "markdown",
      "metadata": {
        "id": "fjxUkvhDymhm"
      },
      "source": [
        "Exercício 1"
      ]
    },
    {
      "cell_type": "code",
      "metadata": {
        "id": "VZue6YIHohbg",
        "outputId": "2da27874-cec9-4bc7-d4c3-20442d869571",
        "colab": {
          "base_uri": "https://localhost:8080/"
        }
      },
      "source": [
        "fruta = \"banana\"\n",
        "\n",
        "for i in range(len(fruta)):\n",
        "  print(\" \"*i,fruta[i])\n"
      ],
      "execution_count": 1,
      "outputs": [
        {
          "output_type": "stream",
          "name": "stdout",
          "text": [
            " b\n",
            "  a\n",
            "   n\n",
            "    a\n",
            "     n\n",
            "      a\n"
          ]
        }
      ]
    },
    {
      "cell_type": "markdown",
      "metadata": {
        "id": "U3DcfCrMyrFV"
      },
      "source": [
        "Exercício 2"
      ]
    },
    {
      "cell_type": "code",
      "metadata": {
        "id": "T9IlEkQAyslt"
      },
      "source": [
        "def reverso(palavra):\n",
        "  p = palavra[::-1] ##slicing\n",
        "  for c in p:\n",
        "    print(c)\n",
        "reverso('banana')"
      ],
      "execution_count": null,
      "outputs": []
    }
  ]
}