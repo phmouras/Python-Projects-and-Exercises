{
  "nbformat": 4,
  "nbformat_minor": 0,
  "metadata": {
    "colab": {
      "name": "Exercício_5.ipynb",
      "provenance": [],
      "collapsed_sections": [],
      "authorship_tag": "ABX9TyPoFVAkSw1cZaSQZYVKUn/j",
      "include_colab_link": true
    },
    "kernelspec": {
      "name": "python3",
      "display_name": "Python 3"
    },
    "language_info": {
      "name": "python"
    }
  },
  "cells": [
    {
      "cell_type": "markdown",
      "metadata": {
        "id": "view-in-github",
        "colab_type": "text"
      },
      "source": [
        "<a href=\"https://colab.research.google.com/github/phmouras/Python_Exercises/blob/main/Exerc%C3%ADcio_5_2.ipynb\" target=\"_parent\"><img src=\"https://colab.research.google.com/assets/colab-badge.svg\" alt=\"Open In Colab\"/></a>"
      ]
    },
    {
      "cell_type": "markdown",
      "metadata": {
        "id": "CbAiWn56hrwx"
      },
      "source": [
        "Exercício estrela 5 pontas\n"
      ]
    },
    {
      "cell_type": "code",
      "metadata": {
        "id": "UXR7WXZaf3WF"
      },
      "source": [
        "import turtle\n",
        "jn = turtle.Screen()\n",
        "jn.bgcolor(\"black\")\n",
        "star = turtle.Turtle()\n",
        "star.color(\"red\")\n",
        "\n",
        "star.left(36)   \n",
        "\n",
        "for i in range(5):\n",
        " \n",
        "  star.forward(80)\n",
        "  star.left(144)\n",
        " \n",
        "\n",
        "jn.mainloop()  "
      ],
      "execution_count": null,
      "outputs": []
    },
    {
      "cell_type": "markdown",
      "metadata": {
        "id": "fKi-9TGPhuhI"
      },
      "source": [
        "Exercício 1"
      ]
    },
    {
      "cell_type": "code",
      "metadata": {
        "id": "C9ctCoc0gL1i"
      },
      "source": [
        "import turtle\n",
        "jn = turtle.Screen()\n",
        "joana = turtle.Turtle()\n",
        "\n",
        "def square(t):\n",
        "  for i in range(4):\n",
        "     joana.forward(80)\n",
        "     joana.left(90) \n",
        "     \n",
        "\n",
        "square(5)    \n",
        "    "
      ],
      "execution_count": null,
      "outputs": []
    },
    {
      "cell_type": "markdown",
      "metadata": {
        "id": "XgRjQ3VTrzRu"
      },
      "source": [
        "Exercício 2"
      ]
    },
    {
      "cell_type": "code",
      "metadata": {
        "id": "0Q3yKguor2S1"
      },
      "source": [
        "import turtle\n",
        "jn = turtle.Screen()\n",
        "joana = turtle.Turtle()\n",
        "\n",
        "def polygon(t,length):\n",
        "  for i in range(n):\n",
        "     joana.forward(length)\n",
        "     joana.left(poligono_regular) \n",
        "     \n",
        "\n",
        "polygon(joana,50)    \n"
      ],
      "execution_count": null,
      "outputs": []
    },
    {
      "cell_type": "markdown",
      "metadata": {
        "id": "laBy5M9crv79"
      },
      "source": [
        "Exercício 3"
      ]
    },
    {
      "cell_type": "code",
      "metadata": {
        "id": "qgaCdoUSrvdW"
      },
      "source": [
        "import turtle\n",
        "jn = turtle.Screen()\n",
        "joana = turtle.Turtle()\n",
        "\n",
        "def polygon(t,length,n):\n",
        "  poligono_regular=360/n\n",
        "  for i in range(n):\n",
        "     joana.forward(length)\n",
        "     joana.left(poligono_regular) \n",
        "     \n",
        "\n",
        "polygon(joana,50,5)    \n"
      ],
      "execution_count": null,
      "outputs": []
    },
    {
      "cell_type": "markdown",
      "metadata": {
        "id": "B0ZKZOcxGx6f"
      },
      "source": [
        "Exercício 4"
      ]
    },
    {
      "cell_type": "code",
      "metadata": {
        "id": "ywwQvOWnGxgg"
      },
      "source": [
        "def circle(t,r):\n",
        "  circunferencia = 2 * math.pi * r\n",
        "  n = 60\n",
        "  length = int(circunferencia/n)\n",
        "  polygon(t,length,n)\n",
        "\n",
        "\n",
        "circle(joana,100)"
      ],
      "execution_count": null,
      "outputs": []
    },
    {
      "cell_type": "markdown",
      "metadata": {
        "id": "QH2FNgpRG17A"
      },
      "source": [
        "Exercício 5"
      ]
    },
    {
      "cell_type": "code",
      "metadata": {
        "id": "uZZ9xWjpG4J4"
      },
      "source": [
        "def arc(t,r,n):\n",
        "  angle = 360/n\n",
        "  circunferencia = 2 * math.pi * r * angle\n",
        "\n",
        "\n",
        "arc(t,10)"
      ],
      "execution_count": null,
      "outputs": []
    }
  ]
}