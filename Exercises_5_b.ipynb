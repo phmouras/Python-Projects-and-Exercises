{
  "nbformat": 4,
  "nbformat_minor": 0,
  "metadata": {
    "colab": {
      "name": "Exercices_5_1.ipynb",
      "provenance": [],
      "authorship_tag": "ABX9TyN7sBQK4v3jH6YuY6w8BR3w",
      "include_colab_link": true
    },
    "kernelspec": {
      "name": "python3",
      "display_name": "Python 3"
    },
    "language_info": {
      "name": "python"
    }
  },
  "cells": [
    {
      "cell_type": "markdown",
      "metadata": {
        "id": "view-in-github",
        "colab_type": "text"
      },
      "source": [
        "<a href=\"https://colab.research.google.com/github/phmouras/Python_Exercises/blob/main/Exercises_5_b.ipynb\" target=\"_parent\"><img src=\"https://colab.research.google.com/assets/colab-badge.svg\" alt=\"Open In Colab\"/></a>"
      ]
    },
    {
      "cell_type": "markdown",
      "metadata": {
        "id": "tt4b13xD83i_"
      },
      "source": [
        "PARTE 1"
      ]
    },
    {
      "cell_type": "markdown",
      "metadata": {
        "id": "qfmBaOBfDYL1"
      },
      "source": [
        "Exercícios 1 - 5"
      ]
    },
    {
      "cell_type": "code",
      "metadata": {
        "id": "AzstRDfMs8aL"
      },
      "source": [
        "import turtle\n",
        "jn = turtle.Screen()\n",
        "joana = turtle.Turtle()\n",
        "joana.shape('turtle')\n",
        "\n",
        "width_turtle = input('Insira a largura da caneta:')\n",
        "\n",
        "joana.pensize(width_turtle)\n",
        "\n",
        "print(width_turtle)\n",
        "\n",
        "color_turtle = input('Insira a cor da tartaruga:')\n",
        "\n",
        "joana.color(color_turtle)\n",
        "\n",
        "print(color_turtle)\n",
        "\n",
        "speed_turtle = input('Insira a velocidade da tartaruga')\n",
        "\n",
        "joana.speed(speed_turtle)\n",
        "\n",
        "print(speed_turtle)\n",
        "\n",
        "color_screen = input('Insira a cor do fundo da tela:')\n",
        "\n",
        "jn.bgcolor(color_screen)\n",
        "\n",
        "print(color_screen)\n",
        "\n",
        "\n",
        "def square(t):\n",
        "  \n",
        "  for i in range(4):\n",
        "     joana.forward(80)\n",
        "     joana.left(90) \n",
        "     \n",
        "square(5)\n",
        "\n",
        "\n"
      ],
      "execution_count": null,
      "outputs": []
    },
    {
      "cell_type": "markdown",
      "metadata": {
        "id": "MSNoxWL2DdWd"
      },
      "source": [
        "Exercício 6"
      ]
    },
    {
      "cell_type": "code",
      "metadata": {
        "id": "dOUDJnlTDghd"
      },
      "source": [
        ""
      ],
      "execution_count": null,
      "outputs": []
    },
    {
      "cell_type": "markdown",
      "metadata": {
        "id": "kQPKOlZV0oCx"
      },
      "source": [
        "PARTE 2\n"
      ]
    },
    {
      "cell_type": "code",
      "metadata": {
        "id": "oWoW_27VC0r-"
      },
      "source": [
        ""
      ],
      "execution_count": null,
      "outputs": []
    }
  ]
}