{
  "nbformat": 4,
  "nbformat_minor": 0,
  "metadata": {
    "colab": {
      "name": "Exercício_5.ipynb",
      "provenance": [],
      "authorship_tag": "ABX9TyPuq6j4t3v2qB7ibt6R8APL",
      "include_colab_link": true
    },
    "kernelspec": {
      "name": "python3",
      "display_name": "Python 3"
    },
    "language_info": {
      "name": "python"
    }
  },
  "cells": [
    {
      "cell_type": "markdown",
      "metadata": {
        "id": "view-in-github",
        "colab_type": "text"
      },
      "source": [
        "<a href=\"https://colab.research.google.com/github/phmouras/Python_Exercises/blob/main/Exerc%C3%ADcio_5.ipynb\" target=\"_parent\"><img src=\"https://colab.research.google.com/assets/colab-badge.svg\" alt=\"Open In Colab\"/></a>"
      ]
    },
    {
      "cell_type": "code",
      "metadata": {
        "id": "UXR7WXZaf3WF"
      },
      "source": [
        "import turtle\n",
        "jn = turtle.Screen()\n",
        "jn.bgcolor(\"black\")\n",
        "star = turtle.Turtle()\n",
        "star.color(\"red\")\n",
        "\n",
        "   \n",
        "\n",
        "for i in range(5):\n",
        " \n",
        "  star.forward(80)\n",
        "  star.left(144)\n",
        " \n",
        "\n",
        "jn.mainloop()  "
      ],
      "execution_count": null,
      "outputs": []
    }
  ]
}