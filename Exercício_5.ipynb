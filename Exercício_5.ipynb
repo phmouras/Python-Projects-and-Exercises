{
  "nbformat": 4,
  "nbformat_minor": 0,
  "metadata": {
    "colab": {
      "name": "Exercício_5.ipynb",
      "provenance": [],
      "collapsed_sections": [],
      "authorship_tag": "ABX9TyMOlTxRwulTRnahZkPQUjHz",
      "include_colab_link": true
    },
    "kernelspec": {
      "name": "python3",
      "display_name": "Python 3"
    },
    "language_info": {
      "name": "python"
    }
  },
  "cells": [
    {
      "cell_type": "markdown",
      "metadata": {
        "id": "view-in-github",
        "colab_type": "text"
      },
      "source": [
        "<a href=\"https://colab.research.google.com/github/phmouras/Python_Exercises/blob/main/Exerc%C3%ADcio_5.ipynb\" target=\"_parent\"><img src=\"https://colab.research.google.com/assets/colab-badge.svg\" alt=\"Open In Colab\"/></a>"
      ]
    },
    {
      "cell_type": "markdown",
      "metadata": {
        "id": "CbAiWn56hrwx"
      },
      "source": [
        "Exercício 1"
      ]
    },
    {
      "cell_type": "code",
      "metadata": {
        "id": "UXR7WXZaf3WF"
      },
      "source": [
        "import turtle\n",
        "jn = turtle.Screen()\n",
        "jn.bgcolor(\"black\")\n",
        "star = turtle.Turtle()\n",
        "star.color(\"red\")\n",
        "\n",
        "star.left(36)   \n",
        "\n",
        "for i in range(5):\n",
        " \n",
        "  star.forward(80)\n",
        "  star.left(144)\n",
        " \n",
        "\n",
        "jn.mainloop()  "
      ],
      "execution_count": null,
      "outputs": []
    },
    {
      "cell_type": "markdown",
      "metadata": {
        "id": "fKi-9TGPhuhI"
      },
      "source": [
        "Exercício 2"
      ]
    },
    {
      "cell_type": "code",
      "metadata": {
        "id": "C9ctCoc0gL1i"
      },
      "source": [
        "import turtle\n",
        "jn = turtle.Screen()\n",
        "joana = turtle.Turtle()\n",
        "\n",
        "def square(t):\n",
        "  for i in range(4):\n",
        "     joana.forward(80)\n",
        "     joana.left(90) \n",
        "     \n",
        "\n",
        "square(5)    \n",
        "    "
      ],
      "execution_count": null,
      "outputs": []
    }
  ]
}