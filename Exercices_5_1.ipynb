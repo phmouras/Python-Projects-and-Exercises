{
  "nbformat": 4,
  "nbformat_minor": 0,
  "metadata": {
    "colab": {
      "name": "Exercices_5_1.ipynb",
      "provenance": [],
      "authorship_tag": "ABX9TyM8mnJy+SrmNFQ+qogEtZ5w",
      "include_colab_link": true
    },
    "kernelspec": {
      "name": "python3",
      "display_name": "Python 3"
    },
    "language_info": {
      "name": "python"
    }
  },
  "cells": [
    {
      "cell_type": "markdown",
      "metadata": {
        "id": "view-in-github",
        "colab_type": "text"
      },
      "source": [
        "<a href=\"https://colab.research.google.com/github/phmouras/Python_Exercises/blob/main/Exercices_5_1.ipynb\" target=\"_parent\"><img src=\"https://colab.research.google.com/assets/colab-badge.svg\" alt=\"Open In Colab\"/></a>"
      ]
    },
    {
      "cell_type": "markdown",
      "metadata": {
        "id": "WcNcK6wKtgQq"
      },
      "source": [
        "Exercício 1"
      ]
    },
    {
      "cell_type": "code",
      "metadata": {
        "id": "AzstRDfMs8aL"
      },
      "source": [
        "import turtle\n",
        "jn = turtle.Screen()\n",
        "joana = turtle.Turtle()\n",
        "\n",
        "\n",
        "def square(t):\n",
        "  \n",
        "  for i in range(4):\n",
        "     joana.forward(80)\n",
        "     joana.left(90) \n",
        "     \n",
        "\n",
        "square(5)    \n",
        "s=turtle.Screen()\n",
        "s.bgcolor(“blue”)\n"
      ],
      "execution_count": null,
      "outputs": []
    },
    {
      "cell_type": "markdown",
      "metadata": {
        "id": "kQPKOlZV0oCx"
      },
      "source": [
        "Exercício 2"
      ]
    },
    {
      "cell_type": "code",
      "metadata": {
        "id": "DI7kxt950poY"
      },
      "source": [
        ""
      ],
      "execution_count": null,
      "outputs": []
    }
  ]
}