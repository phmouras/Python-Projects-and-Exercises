{
  "nbformat": 4,
  "nbformat_minor": 0,
  "metadata": {
    "colab": {
      "name": "Exercices_5_1.ipynb",
      "provenance": [],
      "authorship_tag": "ABX9TyM/VfSLsS6KpQl1Kfb46KaC",
      "include_colab_link": true
    },
    "kernelspec": {
      "name": "python3",
      "display_name": "Python 3"
    },
    "language_info": {
      "name": "python"
    }
  },
  "cells": [
    {
      "cell_type": "markdown",
      "metadata": {
        "id": "view-in-github",
        "colab_type": "text"
      },
      "source": [
        "<a href=\"https://colab.research.google.com/github/phmouras/Python_Exercises/blob/main/Exercices_5_1.ipynb\" target=\"_parent\"><img src=\"https://colab.research.google.com/assets/colab-badge.svg\" alt=\"Open In Colab\"/></a>"
      ]
    },
    {
      "cell_type": "markdown",
      "metadata": {
        "id": "tt4b13xD83i_"
      },
      "source": [
        "PARTE 1"
      ]
    },
    {
      "cell_type": "markdown",
      "metadata": {
        "id": "qfmBaOBfDYL1"
      },
      "source": [
        "Exercícios 1 - 5"
      ]
    },
    {
      "cell_type": "code",
      "metadata": {
        "id": "AzstRDfMs8aL"
      },
      "source": [
        "import turtle\n",
        "jn = turtle.Screen()\n",
        "joana = turtle.Turtle()\n",
        "joana.shape('turtle')\n",
        "\n",
        "width_turtle = input('Insira a largura da caneta:')\n",
        "\n",
        "joana.pensize(width_turtle)\n",
        "\n",
        "print(width_turtle)\n",
        "\n",
        "color_turtle = input('Insira a cor da tartaruga:')\n",
        "\n",
        "joana.color(color_turtle)\n",
        "\n",
        "print(color_turtle)\n",
        "\n",
        "speed_turtle = input('Insira a velocidade da tartaruga')\n",
        "\n",
        "joana.speed(speed_turtle)\n",
        "\n",
        "print(speed_turtle)\n",
        "\n",
        "color_screen = input('Insira a cor do fundo da tela:')\n",
        "\n",
        "jn.bgcolor(color_screen)\n",
        "\n",
        "print(color_screen)\n",
        "\n",
        "\n",
        "def square(t):\n",
        "  \n",
        "  for i in range(4):\n",
        "     joana.forward(80)\n",
        "     joana.left(90) \n",
        "     \n",
        "square(5)\n",
        "\n",
        "\n"
      ],
      "execution_count": null,
      "outputs": []
    },
    {
      "cell_type": "markdown",
      "metadata": {
        "id": "MSNoxWL2DdWd"
      },
      "source": [
        "Exercício 6"
      ]
    },
    {
      "cell_type": "code",
      "metadata": {
        "id": "dOUDJnlTDghd"
      },
      "source": [
        "import turtle\n",
        "jn = turtle.Screen()\n",
        "jn.bgcolor(\"black\")\n",
        "star = turtle.Turtle()\n",
        "star.color(\"red\")\n",
        "\n",
        "star.left(36)   \n",
        "\n",
        "for i in range(5):\n",
        " \n",
        "  star.forward(80)\n",
        "  star.left(144)\n",
        " \n",
        "\n",
        "jn.mainloop()  "
      ],
      "execution_count": null,
      "outputs": []
    },
    {
      "cell_type": "code",
      "metadata": {
        "id": "1VGqUVPeK6w1"
      },
      "source": [
        "Exercício 7"
      ],
      "execution_count": null,
      "outputs": []
    },
    {
      "cell_type": "code",
      "metadata": {
        "id": "vA9j-v59K8Z9"
      },
      "source": [
        "import turtle\n",
        "jn = turtle.Screen()\n",
        "jn.bgcolor(\"black\")\n",
        "star = turtle.Turtle()\n",
        "star.color(\"red\")\n",
        "\n",
        "\n",
        "\n",
        "\n",
        "for i in range(4):\n",
        "  for j in range(5):\n",
        "     star.forward(80)\n",
        "     star.right(144)\n",
        "  star.left(180) \n",
        "  star.penup()\n",
        "  star.forward(80)\n",
        "  star.right(180)\n",
        "  star.pendown()\n",
        "  \n",
        "\n",
        "jn.mainloop()  "
      ],
      "execution_count": null,
      "outputs": []
    },
    {
      "cell_type": "markdown",
      "metadata": {
        "id": "kQPKOlZV0oCx"
      },
      "source": [
        "PARTE 2\n"
      ]
    },
    {
      "cell_type": "code",
      "metadata": {
        "id": "oWoW_27VC0r-"
      },
      "source": [
        "import turtle\n",
        "import math\n",
        "jn = turtle.Screen()\n",
        "jn.bgcolor(\"white\")\n",
        "t = turtle.Turtle()\n",
        "t.color(\"green\")\n",
        "\n",
        "def polyline(t, n, length, angle):\n",
        "    for i in range(n):\n",
        "        t.forward(int(length))\n",
        "        t.left(angle)\n",
        "\n",
        "\n",
        "def arc(t, r, angle):\n",
        "    arc_length = 2 * math.pi * r * angle / 360\n",
        "    n = int(arc_length / 3) + 1 \n",
        "    step_length = arc_length / n \n",
        "    step_angle = float(angle) / n \n",
        "    polyline(t, n, step_length, step_angle)\n",
        "angle=60\n",
        "arc(t,200,angle)\n",
        "t.left(180 - angle)\n",
        "arc(t,200,angle)\n",
        "#n_petalas=7\n",
        "#t.left(360/n_petalas)\n",
        "def flor(t,n_petalas,angle,r):\n",
        "  arco=arc(t,r,angle)\n",
        "  "
      ],
      "execution_count": null,
      "outputs": []
    }
  ]
}