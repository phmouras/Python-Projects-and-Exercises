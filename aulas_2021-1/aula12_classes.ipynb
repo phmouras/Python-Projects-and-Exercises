{
  "nbformat": 4,
  "nbformat_minor": 0,
  "metadata": {
    "kernelspec": {
      "display_name": "Python 3",
      "language": "python",
      "name": "python3"
    },
    "language_info": {
      "codemirror_mode": {
        "name": "ipython",
        "version": 3
      },
      "file_extension": ".py",
      "mimetype": "text/x-python",
      "name": "python",
      "nbconvert_exporter": "python",
      "pygments_lexer": "ipython3",
      "version": "3.6.4"
    },
    "colab": {
      "name": "aula12_classes.ipynb",
      "provenance": [],
      "collapsed_sections": [],
      "include_colab_link": true
    }
  },
  "cells": [
    {
      "cell_type": "markdown",
      "metadata": {
        "id": "view-in-github",
        "colab_type": "text"
      },
      "source": [
        "<a href=\"https://colab.research.google.com/github/phmouras/Python_Exercises/blob/main/aulas_2021-1/aula12_classes.ipynb\" target=\"_parent\"><img src=\"https://colab.research.google.com/assets/colab-badge.svg\" alt=\"Open In Colab\"/></a>"
      ]
    },
    {
      "cell_type": "markdown",
      "metadata": {
        "id": "nPvXM-BGzRlD"
      },
      "source": [
        "# Classes e Objetos\n",
        "\n",
        "Python é uma linguagem de programação **orientada a objetos**.\n",
        "\n",
        "Até agora, a maioria dos programas foi escrita usando um ***paradigma*** de **programação procedural**:\n",
        "   * O foco está em escrever funções ou ***procedimentos*** que operam em dados. \n",
        "   \n",
        "Na **programação orientada a objetos**:\n",
        "   * o foco está na criação de objetos que contêm ***dados e funcionalidade*** juntos. \n",
        "   * Normalmente, cada definição de objeto corresponde a algum objeto ou conceito no mundo real, e as funções que operam nesse objeto correspondem às formas pelas quais os objetos do mundo real interagem.\n",
        "\n",
        "\n",
        "## Tipos de dados compostos definidos pelo usuário\n",
        "\n",
        "Até agora, já utilizamos **classes** como:\n",
        "   * `str` \n",
        "   * `int` \n",
        "   * `float` \n",
        "   * `Turtle`\n",
        "   * Listas\n",
        "   * Dicionários\n",
        "   \n",
        "Agora estamos prontos para criar nossa própria **classe** definida pelo usuário: o `Ponto`.\n",
        "\n",
        "Podemos representar um ponto, por exemplo um ponto no plano cartesiano, como o conjunto de suas coordenadas x, y: P(x,y).\n",
        "\n",
        "Com isso, criaremos uma nova **classe** chamada `Ponto`:"
      ]
    },
    {
      "cell_type": "code",
      "metadata": {
        "id": "izFeGZ9VzRlE"
      },
      "source": [
        "class Ponto:\n",
        "    \"\"\" A classe Ponto representa e manipula as coordenadas x,y . \"\"\"\n",
        "\n",
        "    def __init__(self):\n",
        "        \"\"\" Cria um novo ponto posicionado na origem. \"\"\"\n",
        "        self.x = 0\n",
        "        self.y = 0"
      ],
      "execution_count": null,
      "outputs": []
    },
    {
      "cell_type": "markdown",
      "metadata": {
        "id": "gwA1Pq-4zRlE"
      },
      "source": [
        "* As definições de classe podem aparecer em qualquer lugar de um programa, mas geralmente estão próximas do início (após as instruções de importação).\n",
        "\n",
        "A sintaxe de uma **classe**:\n",
        "\n",
        "   * tem um **cabeçalho** que começa com a palavra-chave, `class`, seguido do **nome da classe** e termina com dois pontos. \n",
        "   * Os níveis de **indentação** informam onde a **classe** termina.\n",
        "   * Cada classe deve ter um método com o nome especial `__init__`. Esse **método inicializador** é chamado automaticamente sempre que uma nova instância do Ponto é criada.\n",
        "      * Ele fornece ao programador a oportunidade de configurar os ***atributos*** necessários na nova instância, fornecendo a eles seus valores iniciais. \n",
        "      * O parâmetro `self` é configurado automaticamente para referenciar o objeto recém-criado que precisa ser inicializado.\n",
        "\n",
        "Vamos usar nossa nova classe `Ponto`:"
      ]
    },
    {
      "cell_type": "code",
      "metadata": {
        "id": "EQAct1vyzRlE",
        "colab": {
          "base_uri": "https://localhost:8080/"
        },
        "outputId": "a24d72bf-7814-4b63-c376-89b21e891121"
      },
      "source": [
        "p = Ponto()         # Instanciar um objeto do tipo Ponto\n",
        "q = Ponto()         # Fazer um segundo objeto do tipo Ponto\n",
        "\n",
        "print(p.x, p.y, q.x, q.y)  # Cada objeto do tipo ponto tem seu próprio x e y "
      ],
      "execution_count": 21,
      "outputs": [
        {
          "output_type": "stream",
          "name": "stdout",
          "text": [
            "0 0 0 0\n"
          ]
        }
      ]
    },
    {
      "cell_type": "markdown",
      "metadata": {
        "id": "maUzmMQgzRlF"
      },
      "source": [
        "**Por que a declaração de print acima retorna valores iguais a 0 ?**\n",
        "\n",
        "Já instanciamos objetos antes, lembram?\n",
        "\n",
        "_(Nota: observem que no caso do ColabTurtle ele não funciona como a nossa classe `Ponto`, pois precisa chamar explicitamente um inicializador e não um construtor da classe,  mas a tartaruga que usamos com o `trinket` sim)_"
      ]
    },
    {
      "cell_type": "code",
      "metadata": {
        "id": "8YO5Yp1-zRlF",
        "colab": {
          "base_uri": "https://localhost:8080/",
          "height": 1000
        },
        "outputId": "072f1244-418b-4f6a-e59e-d8ca4107ce73"
      },
      "source": [
        "# declarações para instalar e importar o módulo Turtle no âmbito do Google Colab\n",
        "!pip3 install ColabTurtle\n",
        "from ColabTurtle import Turtle \n",
        "\n",
        "joana = Turtle\n",
        "joana.initializeTurtle() \n",
        "joana.color('red')\n",
        "\n",
        "alex = Turtle # Cria uma tartaruga, atribui a joana\n",
        "alex.initializeTurtle() \n",
        "alex.color('blue')"
      ],
      "execution_count": 22,
      "outputs": [
        {
          "output_type": "stream",
          "name": "stdout",
          "text": [
            "Collecting ColabTurtle\n",
            "  Downloading ColabTurtle-2.1.0.tar.gz (6.8 kB)\n",
            "Building wheels for collected packages: ColabTurtle\n",
            "  Building wheel for ColabTurtle (setup.py) ... \u001b[?25l\u001b[?25hdone\n",
            "  Created wheel for ColabTurtle: filename=ColabTurtle-2.1.0-py3-none-any.whl size=7655 sha256=8eed184a8d9499406391532a47e6475ddbbce3f0fec505f8c1d94727bc753964\n",
            "  Stored in directory: /root/.cache/pip/wheels/0d/ab/65/cc4478508751448dfb4ecb20a6533082855c227dfce8c13902\n",
            "Successfully built ColabTurtle\n",
            "Installing collected packages: ColabTurtle\n",
            "Successfully installed ColabTurtle-2.1.0\n"
          ]
        },
        {
          "output_type": "display_data",
          "data": {
            "text/html": [
              "\n",
              "      <svg width=\"800\" height=\"500\">\n",
              "        <rect width=\"100%\" height=\"100%\" fill=\"black\"/>\n",
              "        \n",
              "        <g visibility=visible transform=\"rotate(360,400,250) translate(382, 232)\">\n",
              "<path style=\" stroke:none;fill-rule:evenodd;fill:red;fill-opacity:1;\" d=\"M 18.214844 0.632812 C 16.109375 1.800781 15.011719 4.074219 15.074219 7.132812 L 15.085938 7.652344 L 14.785156 7.496094 C 13.476562 6.824219 11.957031 6.671875 10.40625 7.066406 C 8.46875 7.550781 6.515625 9.15625 4.394531 11.992188 C 3.0625 13.777344 2.679688 14.636719 3.042969 15.027344 L 3.15625 15.152344 L 3.519531 15.152344 C 4.238281 15.152344 4.828125 14.886719 8.1875 13.039062 C 9.386719 12.378906 10.371094 11.839844 10.378906 11.839844 C 10.386719 11.839844 10.355469 11.929688 10.304688 12.035156 C 9.832031 13.09375 9.257812 14.820312 8.96875 16.078125 C 7.914062 20.652344 8.617188 24.53125 11.070312 27.660156 C 11.351562 28.015625 11.363281 27.914062 10.972656 28.382812 C 8.925781 30.84375 7.945312 33.28125 8.238281 35.1875 C 8.289062 35.527344 8.28125 35.523438 8.917969 35.523438 C 10.941406 35.523438 13.074219 34.207031 15.136719 31.6875 C 15.359375 31.417969 15.328125 31.425781 15.5625 31.574219 C 16.292969 32.042969 18.023438 32.964844 18.175781 32.964844 C 18.335938 32.964844 19.941406 32.210938 20.828125 31.71875 C 20.996094 31.625 21.136719 31.554688 21.136719 31.558594 C 21.203125 31.664062 21.898438 32.414062 22.222656 32.730469 C 23.835938 34.300781 25.5625 35.132812 27.582031 35.300781 C 27.90625 35.328125 27.9375 35.308594 28.007812 34.984375 C 28.382812 33.242188 27.625 30.925781 25.863281 28.425781 L 25.542969 27.96875 L 25.699219 27.785156 C 28.945312 23.960938 29.132812 18.699219 26.257812 11.96875 L 26.207031 11.84375 L 27.945312 12.703125 C 31.53125 14.476562 32.316406 14.800781 33.03125 14.800781 C 33.976562 14.800781 33.78125 13.9375 32.472656 12.292969 C 28.519531 7.355469 25.394531 5.925781 21.921875 7.472656 L 21.558594 7.636719 L 21.578125 7.542969 C 21.699219 6.992188 21.761719 5.742188 21.699219 5.164062 C 21.496094 3.296875 20.664062 1.964844 19.003906 0.855469 C 18.480469 0.503906 18.457031 0.5 18.214844 0.632812\"/>\n",
              "</g>\n",
              "      </svg>\n",
              "    "
            ],
            "text/plain": [
              "<IPython.core.display.HTML object>"
            ]
          },
          "metadata": {}
        },
        {
          "output_type": "display_data",
          "data": {
            "text/html": [
              "\n",
              "      <svg width=\"800\" height=\"500\">\n",
              "        <rect width=\"100%\" height=\"100%\" fill=\"black\"/>\n",
              "        \n",
              "        <g visibility=visible transform=\"rotate(360,400,250) translate(382, 232)\">\n",
              "<path style=\" stroke:none;fill-rule:evenodd;fill:blue;fill-opacity:1;\" d=\"M 18.214844 0.632812 C 16.109375 1.800781 15.011719 4.074219 15.074219 7.132812 L 15.085938 7.652344 L 14.785156 7.496094 C 13.476562 6.824219 11.957031 6.671875 10.40625 7.066406 C 8.46875 7.550781 6.515625 9.15625 4.394531 11.992188 C 3.0625 13.777344 2.679688 14.636719 3.042969 15.027344 L 3.15625 15.152344 L 3.519531 15.152344 C 4.238281 15.152344 4.828125 14.886719 8.1875 13.039062 C 9.386719 12.378906 10.371094 11.839844 10.378906 11.839844 C 10.386719 11.839844 10.355469 11.929688 10.304688 12.035156 C 9.832031 13.09375 9.257812 14.820312 8.96875 16.078125 C 7.914062 20.652344 8.617188 24.53125 11.070312 27.660156 C 11.351562 28.015625 11.363281 27.914062 10.972656 28.382812 C 8.925781 30.84375 7.945312 33.28125 8.238281 35.1875 C 8.289062 35.527344 8.28125 35.523438 8.917969 35.523438 C 10.941406 35.523438 13.074219 34.207031 15.136719 31.6875 C 15.359375 31.417969 15.328125 31.425781 15.5625 31.574219 C 16.292969 32.042969 18.023438 32.964844 18.175781 32.964844 C 18.335938 32.964844 19.941406 32.210938 20.828125 31.71875 C 20.996094 31.625 21.136719 31.554688 21.136719 31.558594 C 21.203125 31.664062 21.898438 32.414062 22.222656 32.730469 C 23.835938 34.300781 25.5625 35.132812 27.582031 35.300781 C 27.90625 35.328125 27.9375 35.308594 28.007812 34.984375 C 28.382812 33.242188 27.625 30.925781 25.863281 28.425781 L 25.542969 27.96875 L 25.699219 27.785156 C 28.945312 23.960938 29.132812 18.699219 26.257812 11.96875 L 26.207031 11.84375 L 27.945312 12.703125 C 31.53125 14.476562 32.316406 14.800781 33.03125 14.800781 C 33.976562 14.800781 33.78125 13.9375 32.472656 12.292969 C 28.519531 7.355469 25.394531 5.925781 21.921875 7.472656 L 21.558594 7.636719 L 21.578125 7.542969 C 21.699219 6.992188 21.761719 5.742188 21.699219 5.164062 C 21.496094 3.296875 20.664062 1.964844 19.003906 0.855469 C 18.480469 0.503906 18.457031 0.5 18.214844 0.632812\"/>\n",
              "</g>\n",
              "      </svg>\n",
              "    "
            ],
            "text/plain": [
              "<IPython.core.display.HTML object>"
            ]
          },
          "metadata": {}
        }
      ]
    },
    {
      "cell_type": "markdown",
      "metadata": {
        "id": "e793o4KkiFcM"
      },
      "source": [
        "**Turtle do [Trinket](https://trinket.io/turtle)**\n",
        "\n",
        "```python\n",
        "import turtle\n",
        "\n",
        "#esta linha chama o construtor da classe Turtle do modulo turtle\n",
        "joana = turtle.Turtle()\n",
        "joana.shape(\"turtle\")\n",
        "joana.color(\"red\")\n",
        "```"
      ]
    },
    {
      "cell_type": "code",
      "metadata": {
        "id": "RkcBeNi-QScj"
      },
      "source": [
        "p = Ponto()         # Instanciar um objeto do tipo Ponto\n",
        "q = Ponto()         # Fazer um segundo objeto do tipo Ponto\n",
        "\n",
        "print(p.x, p.y, q.x, q.y)  # Cada objeto do tipo ponto tem seu próprio x e y "
      ],
      "execution_count": null,
      "outputs": []
    },
    {
      "cell_type": "markdown",
      "metadata": {
        "id": "u5HeLQPOzRlF"
      },
      "source": [
        "* As variáveis `p` e `q` são referências atribuídas a dois novos objetos do tipo `Ponto`. \n",
        "\n",
        "* Uma função como `Turtle()` ou `Ponto()` que cria uma **nova instância de objeto** é chamada de **construtor**, \n",
        "   * toda classe fornece automaticamente uma função de construtor que é nomeada da mesma forma que a classe, e que chama internamente o método inicializador `__init__`. \n",
        "   * No nosso exemplo, a função contrutor é a `Ponto()`\n",
        "\n",
        "* Pode ser útil pensar em uma classe como uma fábrica para fazer objetos. \n",
        "\n",
        "* A classe em si não é uma instância de um ponto, mas contém o mecanismo para criar instâncias de pontos. \n",
        "\n",
        "* Toda vez que chamamos o construtor, pedimos à fábrica que nos faça um novo objeto. \n",
        "\n",
        "* À medida que o objeto sai da linha de produção, seu método de inicialização é executado para obter o objeto adequadamente configurado, com suas configurações padrão de fábrica.\n",
        "\n",
        "* O processo combinado de _\"fazer um novo objeto\"_ e _\"obter suas configurações inicializadas com as configurações padrão de fábrica\"_ é chamado de **instanciação**.\n",
        "\n",
        "## Atributos\n",
        "\n",
        "Você pode atribuir valores a uma instância usando a notação de ponto:"
      ]
    },
    {
      "cell_type": "code",
      "metadata": {
        "id": "INTUazRJzRlF",
        "colab": {
          "base_uri": "https://localhost:8080/"
        },
        "outputId": "7f8d351a-b605-4b3b-874c-46cc1bed3a13"
      },
      "source": [
        "p = Ponto()\n",
        "p.x = 3\n",
        "p.y = 4\n",
        "print(p.x, p.y)\n",
        "print(type(p))"
      ],
      "execution_count": 23,
      "outputs": [
        {
          "output_type": "stream",
          "name": "stdout",
          "text": [
            "3 4\n",
            "<class '__main__.Ponto'>\n"
          ]
        }
      ]
    },
    {
      "cell_type": "markdown",
      "metadata": {
        "id": "ZGKG9h-9zRlF"
      },
      "source": [
        "A variável `p` se refere a um objeto do tipo `Ponto` e contém dois atributos que se referem a números (as coordenadas). \n",
        "Acessamos os valores dos atributos com a notação de ponto.\n",
        "\n",
        "## Melhorando nosso inicializador\n",
        "\n",
        "Podemos tornar nossa classe `Ponto`  **mais geral**, adicionando **parâmetros** à função `__init __`: "
      ]
    },
    {
      "cell_type": "code",
      "metadata": {
        "id": "Sxo8TG2GzRlF"
      },
      "source": [
        "class Ponto:\n",
        "    \"\"\" A classe Ponto representa e manipula as coordenadas x,y . \"\"\"\n",
        "\n",
        "    def __init__(self, x=0, y=0):\n",
        "        \"\"\" Inicializa em x, y o novo ponto criado pela classe. \"\"\"\n",
        "        self.x = x\n",
        "        self.y = y"
      ],
      "execution_count": 24,
      "outputs": []
    },
    {
      "cell_type": "code",
      "metadata": {
        "id": "xW85asVNzRlF",
        "colab": {
          "base_uri": "https://localhost:8080/"
        },
        "outputId": "13e8dfa5-ee54-4815-bdfa-094460372bc0"
      },
      "source": [
        "p = Ponto(4, 2)\n",
        "q = Ponto(6, 3)\n",
        "r = Ponto()       # r representa a origem (0, 0)\n",
        "print(p.x, q.y, r.x)"
      ],
      "execution_count": 25,
      "outputs": [
        {
          "output_type": "stream",
          "name": "stdout",
          "text": [
            "4 3 0\n"
          ]
        }
      ]
    },
    {
      "cell_type": "markdown",
      "metadata": {
        "id": "Y4-q2C_RzRlF"
      },
      "source": [
        "## Adicionando outros métodos à nossa classe\n",
        "\n",
        "* Criar uma classe como a `Ponto` traz uma quantidade excepcional de **“poder organizacional”** aos nossos programas e ao nosso pensamento. \n",
        "* Podemos **agrupar as operações** pertinentes a tipos de dados aos quais elas se aplicam, e cada instância da classe pode ter seu próprio estado.\n",
        "\n",
        "Um **método** se comporta como uma função, mas é invocado em uma instância específica: por exemplo, `joana.right(90)` modifica a orientação da instancia da tartaruga que definimos como `joana` em 90 graus à direita.\n",
        "\n",
        "* Os métodos são acessados usando notação de ponto.\n",
        "\n",
        "* Vamos adicionar outro método, `distancia_da_origem`, para ver melhor como os métodos funcionam:"
      ]
    },
    {
      "cell_type": "code",
      "metadata": {
        "id": "KkRYk649zRlF"
      },
      "source": [
        "class Ponto:\n",
        "    \"\"\" Cria um novo Ponto, com coordenadas x, y \"\"\"\n",
        "\n",
        "    def __init__(self, x=0, y=0):\n",
        "        \"\"\" Inicializa em x, y o novo ponto criado pela classe \"\"\"\n",
        "        self.x = x\n",
        "        self.y = y\n",
        "\n",
        "    def distancia_da_origem(self):\n",
        "        \"\"\" Calcula minha distânica da origem \"\"\"\n",
        "        return ((self.x ** 2) + (self.y ** 2)) ** 0.5"
      ],
      "execution_count": 26,
      "outputs": []
    },
    {
      "cell_type": "markdown",
      "metadata": {
        "id": "ux3m7XHyzRlF"
      },
      "source": [
        "Vamos criar algumas instâncias de `Ponto`, verificar seus atributos e chamar nosso novo método nelas: \n",
        "_(Precisamos executar nosso programa primeiro para disponibilizar nossa classe `Ponto` ao intérprete.)_"
      ]
    },
    {
      "cell_type": "code",
      "metadata": {
        "id": "TiNifqX7zRlF",
        "colab": {
          "base_uri": "https://localhost:8080/"
        },
        "outputId": "08d39d00-d587-47c0-f5bc-ed7f5fbd32cb"
      },
      "source": [
        "p = Ponto(3, 4)                   # instanciando um objeto do tipo Ponto\n",
        "print(p.x)                        # acessando seus atributos\n",
        "print(p.y)\n",
        "print(p.distancia_da_origem())    # distância da origem\n",
        "q = Ponto(5, 12)\n",
        "print(q.x)\n",
        "print(q.y)\n",
        "print(q.distancia_da_origem())\n",
        "r = Ponto()\n",
        "print(r.x)\n",
        "print(r.y)\n",
        "print(r.distancia_da_origem())"
      ],
      "execution_count": 27,
      "outputs": [
        {
          "output_type": "stream",
          "name": "stdout",
          "text": [
            "3\n",
            "4\n",
            "5.0\n",
            "5\n",
            "12\n",
            "13.0\n",
            "0\n",
            "0\n",
            "0.0\n"
          ]
        }
      ]
    },
    {
      "cell_type": "markdown",
      "metadata": {
        "id": "nYKqMjnxzRlF"
      },
      "source": [
        "* Ao definir um método, **o primeiro parâmetro refere-se à instância sendo manipulada**. Como já foi dito, costuma-se nomear este parâmetro `self`.\n",
        "\n",
        "Observe que o chamador de `distancia_da_origem` não fornece explicitamente um argumento para corresponder ao parâmetro `self` - isso é feito para nós, pelo interpretador.\n",
        "\n",
        "## Instâncias como argumentos e parâmetros\n",
        "\n",
        "Podemos passar um objeto como um argumento da maneira usual.\n",
        "\n",
        "**Porém**, é importante saber que essa variável só contém uma **referência a um objeto**, portanto, passar um objeto para uma função cria um **alias**: o chamador e a função chamada agora têm uma referência, mas existe apenas um objeto!\n",
        "\n",
        "Aqui está uma função simples envolvendo nossos novos objetos `Ponto`:"
      ]
    },
    {
      "cell_type": "code",
      "metadata": {
        "id": "5Qn6ARPMzRlF"
      },
      "source": [
        "def print_ponto(pt):\n",
        "    print(\"({0}, {1})\".format(pt.x, pt.y))"
      ],
      "execution_count": 28,
      "outputs": []
    },
    {
      "cell_type": "code",
      "metadata": {
        "id": "NnHWWV9ozRlF",
        "colab": {
          "base_uri": "https://localhost:8080/"
        },
        "outputId": "11e9f9fc-0549-4bd5-cb40-d997692c4867"
      },
      "source": [
        "print_ponto(Ponto(2,2))\n",
        "print_ponto(q)"
      ],
      "execution_count": 29,
      "outputs": [
        {
          "output_type": "stream",
          "name": "stdout",
          "text": [
            "(2, 2)\n",
            "(5, 12)\n"
          ]
        }
      ]
    },
    {
      "cell_type": "markdown",
      "metadata": {
        "id": "khBNzGdCzRlF"
      },
      "source": [
        "## Instâncias como valores de retorno\n",
        "\n",
        "Funções e métodos podem retornar instâncias. \n",
        "\n",
        "Por exemplo, dado dois objetos `Ponto`, encontre seu ponto médio. Primeiro, vamos escrever isso como uma função normal:"
      ]
    },
    {
      "cell_type": "code",
      "metadata": {
        "id": "vTOP7iMFzRlF"
      },
      "source": [
        "def ponto_medio(p1, p2):\n",
        "    \"\"\" Retorna o ponto médio dos pontos p1 e p2 \"\"\"\n",
        "    mx = (p1.x + p2.x)/2\n",
        "    my = (p1.y + p2.y)/2\n",
        "    return Ponto(mx, my)"
      ],
      "execution_count": 30,
      "outputs": []
    },
    {
      "cell_type": "markdown",
      "metadata": {
        "id": "uivSJNByzRlG"
      },
      "source": [
        "A função cria e retorna um novo objeto `Ponto`:"
      ]
    },
    {
      "cell_type": "code",
      "metadata": {
        "id": "D8jN633pzRlG",
        "colab": {
          "base_uri": "https://localhost:8080/"
        },
        "outputId": "7fd6c947-ef70-4ca6-aba9-f7283c945bbc"
      },
      "source": [
        "p = Ponto(3, 4)\n",
        "q = Ponto(5, 12)\n",
        "r = ponto_medio(p, q)\n",
        "print(r)\n",
        "print(r.x, r.y)"
      ],
      "execution_count": 31,
      "outputs": [
        {
          "output_type": "stream",
          "name": "stdout",
          "text": [
            "<__main__.Ponto object at 0x7f9802b0c9d0>\n",
            "4.0 8.0\n"
          ]
        }
      ]
    },
    {
      "cell_type": "markdown",
      "metadata": {
        "id": "jO1N6vWQzRlG"
      },
      "source": [
        "Agora vamos refazer isso como um **método** da classe `Ponto`.\n",
        "\n",
        "Suponha que tenhamos um objeto pontual e desejamos encontrar o ponto intermediário entre ele e algum outro ponto alvo:"
      ]
    },
    {
      "cell_type": "code",
      "metadata": {
        "id": "w4W6WaqzzRlG"
      },
      "source": [
        "class Ponto:\n",
        "    \"\"\" Cria um novo Ponto, com coordenadas x, y \"\"\"\n",
        "\n",
        "    def __init__(self, x=0, y=0):\n",
        "        \"\"\" Inicializa em x, y o novo ponto criado pela classe \"\"\"\n",
        "        self.x = x\n",
        "        self.y = y\n",
        "\n",
        "    def distancia_da_origem(self):\n",
        "        \"\"\" Calcula minha distânica da origem \"\"\"\n",
        "        return ((self.x ** 2) + (self.y ** 2)) ** 0.5\n",
        "    \n",
        "    def ponto_medio(self, alvo):\n",
        "        \"\"\" Retorna o ponto medio entre esse ponto e o alvo \"\"\"\n",
        "        mx = (self.x + alvo.x)/2\n",
        "        my = (self.y + alvo.y)/2\n",
        "        return Ponto(mx, my)"
      ],
      "execution_count": 18,
      "outputs": []
    },
    {
      "cell_type": "code",
      "metadata": {
        "id": "2-kvPmWwzRlG",
        "colab": {
          "base_uri": "https://localhost:8080/"
        },
        "outputId": "14106635-45e6-4499-efe5-c619348bb534"
      },
      "source": [
        "p = Ponto(3, 4)\n",
        "q = Ponto(5, 12)\n",
        "r = p.ponto_medio(q)\n",
        "t = q.ponto_medio(r)\n",
        "\n",
        "print(r, r.x,r.y)\n",
        "print(t, t.x,t.y)"
      ],
      "execution_count": 17,
      "outputs": [
        {
          "output_type": "stream",
          "name": "stdout",
          "text": [
            "<__main__.Ponto object at 0x7f98087bde50> 4.0 8.0\n",
            "<__main__.Ponto object at 0x7f9808f6eed0> 4.5 10.0\n"
          ]
        }
      ]
    },
    {
      "cell_type": "markdown",
      "metadata": {
        "id": "WY3hT8mTzRlG"
      },
      "source": [
        "Embora este exemplo atribua cada ponto a uma variável, isso não é necessário. \n",
        "\n",
        "Assim como as chamadas de função podem ser **compostas**, **chamadas de método e instanciação de objetos também podem ser compostas**, levando a essa alternativa que não usa variáveis:"
      ]
    },
    {
      "cell_type": "code",
      "metadata": {
        "id": "ChBowmpbzRlG",
        "colab": {
          "base_uri": "https://localhost:8080/"
        },
        "outputId": "b41dd480-db24-4412-80fa-b2e8307ce155"
      },
      "source": [
        "print(Ponto(3,4).ponto_medio(Ponto(5,12)))"
      ],
      "execution_count": 19,
      "outputs": [
        {
          "output_type": "stream",
          "name": "stdout",
          "text": [
            "<__main__.Ponto object at 0x7f9802b484d0>\n"
          ]
        }
      ]
    },
    {
      "cell_type": "markdown",
      "metadata": {
        "id": "ipvpizsSzRlG"
      },
      "source": [
        "A função `print` acima imprime na tela o endereço da referência ao objeto. Se conseguirmos um método de conversão de instância para _string_, poderemos imprimir na tela os atributos do objeto do tipo `Ponto`.\n",
        "\n",
        "## Convertendo uma instância em uma string\n",
        "\n",
        "É uma boa abordagem ter um método para que cada classe possa produzir uma representação de string de si mesma. \n",
        "\n",
        "Vamos chamá-lo inicialmente de `para_string`:"
      ]
    },
    {
      "cell_type": "code",
      "metadata": {
        "id": "xNC2NAvxzRlG"
      },
      "source": [
        "class Ponto:\n",
        "    \"\"\" Cria um novo Ponto, com coordenadas x, y \"\"\"\n",
        "\n",
        "    def __init__(self, x=0, y=0):\n",
        "        \"\"\" Inicializa em x, y o novo ponto criado pela classe \"\"\"\n",
        "        self.x = x\n",
        "        self.y = y\n",
        "\n",
        "    def distancia_da_origem(self):\n",
        "        \"\"\" Calcula minha distânica da origem \"\"\"\n",
        "        return ((self.x ** 2) + (self.y ** 2)) ** 0.5\n",
        "    \n",
        "    def ponto_medio(self, alvo):\n",
        "        \"\"\" Retorna o ponto medio entre esse ponto e o alvo \"\"\"\n",
        "        mx = (self.x + alvo.x)/2\n",
        "        my = (self.y + alvo.y)/2\n",
        "        return Ponto(mx, my)\n",
        "    \n",
        "    def para_string(self):\n",
        "        return \"({0}, {1})\".format(self.x, self.y)"
      ],
      "execution_count": null,
      "outputs": []
    },
    {
      "cell_type": "code",
      "metadata": {
        "id": "bgHYQBu3zRlG"
      },
      "source": [
        "p = Ponto(3, 4)\n",
        "print(p.para_string())"
      ],
      "execution_count": null,
      "outputs": []
    },
    {
      "cell_type": "markdown",
      "metadata": {
        "id": "xO9Iw25UzRlG"
      },
      "source": [
        "* Mas já não existe em Python um conversor de tipos ***str*** que transforma nosso objeto em uma string? **Sim!** \n",
        "* E a função `print` já não usa isso automaticamente ao imprimir na tela? **Sim!!!!** \n",
        "\n",
        "\n",
        "Mas esses mecanismos automáticos ainda não fazem exatamente o que queremos:"
      ]
    },
    {
      "cell_type": "code",
      "metadata": {
        "id": "va132JA6zRlG"
      },
      "source": [
        "print(p)\n",
        "str(p)"
      ],
      "execution_count": null,
      "outputs": []
    },
    {
      "cell_type": "markdown",
      "metadata": {
        "id": "_wAb9pPbzRlG"
      },
      "source": [
        "O Python tem um excelente truque para resolver esse problema!\n",
        "\n",
        "Se substituirmos o nome do nosso método **`para_string`** por **```__str__```** , o interpretador de Python saberá automaticamente quando converter a instância `Ponto` para uma string. Considere isso uma **característica** do Python. :-)"
      ]
    },
    {
      "cell_type": "code",
      "metadata": {
        "id": "GXjkZPiUzRlG"
      },
      "source": [
        "class Ponto:\n",
        "    \"\"\" Cria um novo Ponto, com coordenadas x, y \"\"\"\n",
        "\n",
        "    def __init__(self, x=0, y=0):\n",
        "        \"\"\" Inicializa em x, y o novo ponto criado pela classe \"\"\"\n",
        "        self.x = x\n",
        "        self.y = y\n",
        "\n",
        "    def distancia_da_origem(self):\n",
        "        \"\"\" Calcula minha distânica da origem \"\"\"\n",
        "        return ((self.x ** 2) + (self.y ** 2)) ** 0.5\n",
        "    \n",
        "    def ponto_medio(self, alvo):\n",
        "        \"\"\" Retorna o ponto medio entre esse ponto e o alvo \"\"\"\n",
        "        mx = (self.x + alvo.x)/2\n",
        "        my = (self.y + alvo.y)/2\n",
        "        return Ponto(mx, my)\n",
        "    \n",
        "    def __str__(self):\n",
        "        return \"({0}, {1})\".format(self.x, self.y)"
      ],
      "execution_count": 1,
      "outputs": []
    },
    {
      "cell_type": "code",
      "metadata": {
        "id": "paeoJFaBzRlG"
      },
      "source": [
        "print(Ponto(2,2))\n",
        "str(Ponto(2,2))"
      ],
      "execution_count": null,
      "outputs": []
    },
    {
      "cell_type": "markdown",
      "metadata": {
        "id": "iWAcISRozRlG"
      },
      "source": [
        "Voltando à nossa função **```ponto_medio```**:"
      ]
    },
    {
      "cell_type": "code",
      "metadata": {
        "id": "lcURdPFwzRlG"
      },
      "source": [
        "print(Ponto(3,4).ponto_medio(Ponto(5,12)))"
      ],
      "execution_count": null,
      "outputs": []
    },
    {
      "cell_type": "markdown",
      "metadata": {
        "id": "kYesxbGAzRlG"
      },
      "source": [
        "## Exercícios:\n",
        "\n",
        "1) Escreva **uma função** que calcule a distância entre dois pontos, usando a classe `Ponto` que fizemos nesta aula.\n",
        "\n",
        "2) Adicione um método `reflexao_x` à classe `Ponto` que retorne uma instância de `Ponto` que seja o reflexo **sobre o eixo x**. Por exemplo, o resultado de  `Ponto(3, 5).reflexao_x()` deve ser um ponto com coordenadas  `(3, -5)`. _Imagine um espelho colado no eixo x._\n",
        "\n",
        "3) Adicione um método `inclinacao_da_origem` à classe `Ponto`, que retorne a inclinação da linha que une a origem ao `Ponto`. Por exemplo,\n",
        "\n",
        "```python\n",
        ">>> from Ponto import *\n",
        ">>> Ponto(4, 10).inclinacao_origem()\n",
        "2.5\n",
        "```"
      ]
    },
    {
      "cell_type": "markdown",
      "metadata": {
        "id": "6t41sOkMlYkp"
      },
      "source": [
        "1."
      ]
    },
    {
      "cell_type": "code",
      "metadata": {
        "colab": {
          "base_uri": "https://localhost:8080/"
        },
        "id": "Se7vdXrclXf7",
        "outputId": "b55f99d2-0b98-4b3e-9614-4cc34be25e7f"
      },
      "source": [
        "class Ponto:\n",
        "    \"\"\" Cria um novo Ponto, com coordenadas x, y \"\"\"\n",
        "\n",
        "    def __init__(self, x=0, y=0):\n",
        "        \"\"\" Inicializa em x, y o novo ponto criado pela classe \"\"\"\n",
        "        self.x = x\n",
        "        self.y = y\n",
        "    \n",
        "    def distancia_pontos(self, alvo):\n",
        "      return ((alvo.x - self.x)**2 + (alvo.y - self.y)**2)**1/2\n",
        "\n",
        "p = Ponto(5,2)    \n",
        "q = Ponto(10,5)\n",
        "r = p.distancia_pontos(q)\n",
        "\n",
        "print(r)"
      ],
      "execution_count": 11,
      "outputs": [
        {
          "output_type": "stream",
          "name": "stdout",
          "text": [
            "17.0\n"
          ]
        }
      ]
    },
    {
      "cell_type": "markdown",
      "metadata": {
        "id": "WBLtZ_7Xz9Kv"
      },
      "source": [
        "2."
      ]
    },
    {
      "cell_type": "code",
      "metadata": {
        "id": "GHppTG7Kz-NW",
        "outputId": "4466476c-78bd-4454-ddab-a71f8d0a8eff",
        "colab": {
          "base_uri": "https://localhost:8080/"
        }
      },
      "source": [
        "class Ponto:\n",
        "    \"\"\" Cria um novo Ponto, com coordenadas x, y \"\"\"\n",
        "\n",
        "    def __init__(self, x=0, y=0):\n",
        "        \"\"\" Inicializa em x, y o novo ponto criado pela classe \"\"\"\n",
        "        self.x = x\n",
        "        self.y = y\n",
        "    \n",
        "    def distancia_pontos(self, alvo):\n",
        "      return ((alvo.x - self.x)**2 + (alvo.y - self.y)**2)**1/2\n",
        "\n",
        "    def reflexao_x(self):\n",
        "      xr = self.x\n",
        "      yr = -self.y\n",
        "      return Ponto(xr, yr)\n",
        "\n",
        "p = Ponto(5,2)\n",
        "\n",
        "r = p.reflexao_x()\n",
        "\n",
        "print(r)\n"
      ],
      "execution_count": 15,
      "outputs": [
        {
          "output_type": "stream",
          "name": "stdout",
          "text": [
            "<__main__.Ponto object at 0x7f9802af0290>\n"
          ]
        }
      ]
    },
    {
      "cell_type": "markdown",
      "metadata": {
        "id": "xmBIFq2VzRlG"
      },
      "source": [
        "O que pode dar errado com esse programa?\n",
        "\n",
        "4) A equação de uma linha reta é $y = a x  + b$. Os coeficientes $a$ e $b$ descrevem completamente a reta. Escreva um método na classe `Ponto` para que, se uma instância `Ponto` receber outro `Ponto`, calcule a equação da linha reta que une os dois pontos. Deve retornar os dois coeficientes como uma **tupla de dois valores** $(a,b)$. Por exemplo,\n",
        "\n",
        "```python\n",
        ">>> from Ponto import *\n",
        ">>> print(Ponto(4,11).parametros_reta(Ponto(6,15)))\n",
        "(2.0,3.0)\n",
        "```"
      ]
    },
    {
      "cell_type": "markdown",
      "metadata": {
        "id": "bxUd3bSezRlH"
      },
      "source": [
        "O resultado acima nos diz que a equação da reta é $y = 2 x + 3$. Quando esse método falha?"
      ]
    }
  ]
}