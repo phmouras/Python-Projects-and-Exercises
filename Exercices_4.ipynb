{
  "nbformat": 4,
  "nbformat_minor": 0,
  "metadata": {
    "colab": {
      "name": "Exercices_4.ipynb",
      "provenance": [],
      "authorship_tag": "ABX9TyOzjQg3ObTdqOX4eNCMu2oN",
      "include_colab_link": true
    },
    "kernelspec": {
      "name": "python3",
      "display_name": "Python 3"
    },
    "language_info": {
      "name": "python"
    }
  },
  "cells": [
    {
      "cell_type": "markdown",
      "metadata": {
        "id": "view-in-github",
        "colab_type": "text"
      },
      "source": [
        "<a href=\"https://colab.research.google.com/github/phmouras/Python_Exercises/blob/main/Exercices_4.ipynb\" target=\"_parent\"><img src=\"https://colab.research.google.com/assets/colab-badge.svg\" alt=\"Open In Colab\"/></a>"
      ]
    },
    {
      "cell_type": "markdown",
      "metadata": {
        "id": "tUMwOuDloolk"
      },
      "source": [
        "Exercício 1"
      ]
    },
    {
      "cell_type": "code",
      "metadata": {
        "id": "ixXdhcJYnoGn"
      },
      "source": [
        "def func_dobro(parte1,parte2):\n",
        "  x= parte1 + parte2\n",
        "\n",
        "  return 2*x\n",
        "\n"
      ],
      "execution_count": 5,
      "outputs": []
    },
    {
      "cell_type": "code",
      "metadata": {
        "colab": {
          "base_uri": "https://localhost:8080/"
        },
        "id": "r75gDfNdqUlR",
        "outputId": "47440c89-c2b2-472f-c917-48d9297ba803"
      },
      "source": [
        "func_dobro(6,4)"
      ],
      "execution_count": 6,
      "outputs": [
        {
          "output_type": "execute_result",
          "data": {
            "text/plain": [
              "20"
            ]
          },
          "metadata": {},
          "execution_count": 6
        }
      ]
    },
    {
      "cell_type": "markdown",
      "metadata": {
        "id": "Zs14PWeeqltZ"
      },
      "source": [
        "Exercício 2"
      ]
    },
    {
      "cell_type": "code",
      "metadata": {
        "id": "qJJYeE8Sqoyx"
      },
      "source": [
        "def do_twice (f,x): \n",
        "    f (x) \n",
        "    f (x)"
      ],
      "execution_count": 7,
      "outputs": []
    },
    {
      "cell_type": "code",
      "metadata": {
        "colab": {
          "base_uri": "https://localhost:8080/"
        },
        "id": "qNts9pGH3c7J",
        "outputId": "83ff1d5e-b122-436c-f4bf-956b335ae6e8"
      },
      "source": [
        "def print_twice (b): \n",
        "    print(b) \n",
        "x='oi'\n",
        "do_twice (print_twice,x)"
      ],
      "execution_count": 8,
      "outputs": [
        {
          "output_type": "stream",
          "text": [
            "oi\n",
            "oi\n"
          ],
          "name": "stdout"
        }
      ]
    },
    {
      "cell_type": "code",
      "metadata": {
        "id": "PP81vGDs3cxR"
      },
      "source": [
        "def do_four(do_twice,c):\n",
        "  do_twice(c)\n",
        "  do_twice(c)\n",
        "  x='oi'\n",
        "\n",
        "  do_four (print_twice,x)"
      ],
      "execution_count": 9,
      "outputs": []
    }
  ]
}