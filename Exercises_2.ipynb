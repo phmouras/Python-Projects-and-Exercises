{
  "nbformat": 4,
  "nbformat_minor": 0,
  "metadata": {
    "colab": {
      "name": "Exercises_2.ipynb",
      "provenance": [],
      "collapsed_sections": [],
      "toc_visible": true,
      "authorship_tag": "ABX9TyO5JWS0Z34n5TSDDeKDqllk",
      "include_colab_link": true
    },
    "kernelspec": {
      "name": "python3",
      "display_name": "Python 3"
    },
    "language_info": {
      "name": "python"
    }
  },
  "cells": [
    {
      "cell_type": "markdown",
      "metadata": {
        "id": "view-in-github",
        "colab_type": "text"
      },
      "source": [
        "<a href=\"https://colab.research.google.com/github/phmouras/Python_Exercises/blob/main/Exercises_2.ipynb\" target=\"_parent\"><img src=\"https://colab.research.google.com/assets/colab-badge.svg\" alt=\"Open In Colab\"/></a>"
      ]
    },
    {
      "cell_type": "markdown",
      "metadata": {
        "id": "VouAdP6P8lTO"
      },
      "source": [
        "Exercício 1"
      ]
    },
    {
      "cell_type": "code",
      "metadata": {
        "id": "LNutaZC25Pdt"
      },
      "source": [
        "\n",
        "\n",
        "largura = 17\n",
        "altura = 12.0\n",
        "delimitador = \".\"\n"
      ],
      "execution_count": 7,
      "outputs": []
    },
    {
      "cell_type": "code",
      "metadata": {
        "colab": {
          "base_uri": "https://localhost:8080/"
        },
        "id": "hMsVJCXe8BP3",
        "outputId": "b0528bbd-eec3-4b02-e4be-810b8521dd65"
      },
      "source": [
        "Q1 = largura/2\n",
        "print(Q1)\n",
        "type(Q1)"
      ],
      "execution_count": 8,
      "outputs": [
        {
          "output_type": "stream",
          "text": [
            "8.5\n"
          ],
          "name": "stdout"
        },
        {
          "output_type": "execute_result",
          "data": {
            "text/plain": [
              "float"
            ]
          },
          "metadata": {
            "tags": []
          },
          "execution_count": 8
        }
      ]
    },
    {
      "cell_type": "code",
      "metadata": {
        "colab": {
          "base_uri": "https://localhost:8080/"
        },
        "id": "X7_f0gBc8JKP",
        "outputId": "e0cd2967-7210-41e5-dd2a-148726cded87"
      },
      "source": [
        "Q2 = largura/2.0\n",
        "print(Q2)\n",
        "type(Q2)"
      ],
      "execution_count": 9,
      "outputs": [
        {
          "output_type": "stream",
          "text": [
            "8.5\n"
          ],
          "name": "stdout"
        },
        {
          "output_type": "execute_result",
          "data": {
            "text/plain": [
              "float"
            ]
          },
          "metadata": {
            "tags": []
          },
          "execution_count": 9
        }
      ]
    },
    {
      "cell_type": "code",
      "metadata": {
        "colab": {
          "base_uri": "https://localhost:8080/"
        },
        "id": "l2a1RTQb8KYP",
        "outputId": "fcc06e65-5c2f-49f5-bf3c-112d3f1f772c"
      },
      "source": [
        "Q3 = altura/3\n",
        "print(Q3)\n",
        "type(Q3)"
      ],
      "execution_count": 10,
      "outputs": [
        {
          "output_type": "stream",
          "text": [
            "4.0\n"
          ],
          "name": "stdout"
        },
        {
          "output_type": "execute_result",
          "data": {
            "text/plain": [
              "float"
            ]
          },
          "metadata": {
            "tags": []
          },
          "execution_count": 10
        }
      ]
    },
    {
      "cell_type": "code",
      "metadata": {
        "colab": {
          "base_uri": "https://localhost:8080/"
        },
        "id": "Snc1-0AN8KfP",
        "outputId": "c55a960b-11af-480c-a01e-4bdb8c965ee3"
      },
      "source": [
        "Q4 = 1+2*5\n",
        "print(Q4)\n",
        "type(Q4)"
      ],
      "execution_count": 11,
      "outputs": [
        {
          "output_type": "stream",
          "text": [
            "11\n"
          ],
          "name": "stdout"
        },
        {
          "output_type": "execute_result",
          "data": {
            "text/plain": [
              "int"
            ]
          },
          "metadata": {
            "tags": []
          },
          "execution_count": 11
        }
      ]
    },
    {
      "cell_type": "code",
      "metadata": {
        "colab": {
          "base_uri": "https://localhost:8080/"
        },
        "id": "iOiUDvw98KsO",
        "outputId": "98c2d438-e28e-427a-d4f7-32dfa5ea89f6"
      },
      "source": [
        "Q5 = delimitador*5\n",
        "print(Q5)\n",
        "type(Q5)"
      ],
      "execution_count": 12,
      "outputs": [
        {
          "output_type": "stream",
          "text": [
            ".....\n"
          ],
          "name": "stdout"
        },
        {
          "output_type": "execute_result",
          "data": {
            "text/plain": [
              "str"
            ]
          },
          "metadata": {
            "tags": []
          },
          "execution_count": 12
        }
      ]
    },
    {
      "cell_type": "markdown",
      "metadata": {
        "id": "xDhNV23l8pbd"
      },
      "source": [
        "Exercício 2"
      ]
    },
    {
      "cell_type": "code",
      "metadata": {
        "colab": {
          "base_uri": "https://localhost:8080/"
        },
        "id": "IO1LspjA8a3A",
        "outputId": "844de766-b074-45e8-af3d-57102fa0f6e2"
      },
      "source": [
        "import math\n",
        "r = 5\n",
        "volume = 4/3 * math.pi * r**3\n",
        "\n",
        "print('O volume de uma esfera de raio 5 é:', volume)"
      ],
      "execution_count": 15,
      "outputs": [
        {
          "output_type": "stream",
          "text": [
            "O volume de uma esfera de raio 5 é: 523.5987755982989\n"
          ],
          "name": "stdout"
        }
      ]
    },
    {
      "cell_type": "markdown",
      "metadata": {
        "id": "lynNOkk7-XGe"
      },
      "source": [
        "Exercício 3\n"
      ]
    },
    {
      "cell_type": "code",
      "metadata": {
        "colab": {
          "base_uri": "https://localhost:8080/"
        },
        "id": "V_jAcOPR-Y9s",
        "outputId": "294d0803-04ff-4c21-a71b-18a61ddf6d2f"
      },
      "source": [
        "n = 60      #número de livros\n",
        "preco = 24.95 * n\n",
        "preco_livraria = preco*0.6\n",
        "custo_envio = 3 + (n-1)*0.75                        \n",
        "custo_total = preco_livraria + custo_envio\n",
        "\n",
        "print('O custo total na compra de 60 livros é:', custo_total)"
      ],
      "execution_count": 17,
      "outputs": [
        {
          "output_type": "stream",
          "text": [
            "O custo total na compra de 60 livros é: 945.4499999999999\n"
          ],
          "name": "stdout"
        }
      ]
    }
  ]
}