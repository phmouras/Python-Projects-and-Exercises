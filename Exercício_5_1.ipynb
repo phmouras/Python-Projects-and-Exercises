{
  "nbformat": 4,
  "nbformat_minor": 0,
  "metadata": {
    "colab": {
      "name": "Exercício_5.ipynb",
      "provenance": [],
      "collapsed_sections": [],
      "authorship_tag": "ABX9TyM5PAz2l+aSRoe6qKGgrkM7",
      "include_colab_link": true
    },
    "kernelspec": {
      "name": "python3",
      "display_name": "Python 3"
    },
    "language_info": {
      "name": "python"
    }
  },
  "cells": [
    {
      "cell_type": "markdown",
      "metadata": {
        "id": "view-in-github",
        "colab_type": "text"
      },
      "source": [
        "<a href=\"https://colab.research.google.com/github/phmouras/Python_Exercises/blob/main/Exerc%C3%ADcio_5_1.ipynb\" target=\"_parent\"><img src=\"https://colab.research.google.com/assets/colab-badge.svg\" alt=\"Open In Colab\"/></a>"
      ]
    },
    {
      "cell_type": "markdown",
      "metadata": {
        "id": "CbAiWn56hrwx"
      },
      "source": [
        "Exercício estrela 5 pontas\n"
      ]
    },
    {
      "cell_type": "code",
      "metadata": {
        "id": "UXR7WXZaf3WF"
      },
      "source": [
        "import turtle\n",
        "jn = turtle.Screen()\n",
        "jn.bgcolor(\"black\")\n",
        "star = turtle.Turtle()\n",
        "star.color(\"red\")\n",
        "\n",
        "star.left(36)   \n",
        "\n",
        "for i in range(5):\n",
        " \n",
        "  star.forward(80)\n",
        "  star.left(144)\n",
        " \n",
        "\n",
        "jn.mainloop()  "
      ],
      "execution_count": null,
      "outputs": []
    },
    {
      "cell_type": "markdown",
      "metadata": {
        "id": "fKi-9TGPhuhI"
      },
      "source": [
        "Exercício 1"
      ]
    },
    {
      "cell_type": "code",
      "metadata": {
        "id": "C9ctCoc0gL1i"
      },
      "source": [
        "import turtle\n",
        "jn = turtle.Screen()\n",
        "joana = turtle.Turtle()\n",
        "\n",
        "def square(t):\n",
        "  for i in range(4):\n",
        "     joana.forward(80)\n",
        "     joana.left(90) \n",
        "     \n",
        "\n",
        "square(5)    \n",
        "    "
      ],
      "execution_count": null,
      "outputs": []
    },
    {
      "cell_type": "markdown",
      "metadata": {
        "id": "XgRjQ3VTrzRu"
      },
      "source": [
        "Exercício 2"
      ]
    },
    {
      "cell_type": "code",
      "metadata": {
        "id": "0Q3yKguor2S1"
      },
      "source": [
        "import turtle\n",
        "jn = turtle.Screen()\n",
        "joana = turtle.Turtle()\n",
        "\n",
        "def square(t,length):\n",
        "  for i in range(4):\n",
        "     joana.forward(length)\n",
        "     joana.left(90) \n",
        "     \n",
        "\n",
        "square(joana,200)   \n"
      ],
      "execution_count": null,
      "outputs": []
    },
    {
      "cell_type": "markdown",
      "metadata": {
        "id": "laBy5M9crv79"
      },
      "source": [
        "Exercício 3"
      ]
    },
    {
      "cell_type": "code",
      "metadata": {
        "id": "qgaCdoUSrvdW"
      },
      "source": [
        "import turtle\n",
        "jn = turtle.Screen()\n",
        "joana = turtle.Turtle()\n",
        "\n",
        "def polygon(t,length,n):\n",
        "  poligono_regular=360/n\n",
        "  for i in range(n):\n",
        "     joana.forward(length)\n",
        "     joana.left(poligono_regular) \n",
        "     \n",
        "\n",
        "polygon(joana,50,5)    \n"
      ],
      "execution_count": null,
      "outputs": []
    },
    {
      "cell_type": "markdown",
      "metadata": {
        "id": "_kXJ5Sh77du3"
      },
      "source": [
        "Exercício 4\n"
      ]
    },
    {
      "cell_type": "code",
      "metadata": {
        "id": "Q7mP8Q5a7fW-"
      },
      "source": [
        "def circle(t,r):\n",
        "  circunferencia = 2 * math.pi * r\n",
        "  n = 60\n",
        "  length = int(circunferencia/n)\n",
        "  polygon(t,length,n)\n",
        "\n",
        "\n",
        "circle(joana,100)\n"
      ],
      "execution_count": null,
      "outputs": []
    },
    {
      "cell_type": "markdown",
      "metadata": {
        "id": "DhDoDP6b8LI-"
      },
      "source": [
        "Exercício 5"
      ]
    },
    {
      "cell_type": "code",
      "metadata": {
        "id": "y95melhj8Md2"
      },
      "source": [
        ""
      ],
      "execution_count": null,
      "outputs": []
    }
  ]
}