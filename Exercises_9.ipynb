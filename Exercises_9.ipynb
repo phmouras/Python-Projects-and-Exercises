{
  "nbformat": 4,
  "nbformat_minor": 0,
  "metadata": {
    "colab": {
      "name": "Exercises_9.ipynb",
      "provenance": [],
      "authorship_tag": "ABX9TyNP0dLz/dUM9YUhmq3jI9xY",
      "include_colab_link": true
    },
    "kernelspec": {
      "name": "python3",
      "display_name": "Python 3"
    },
    "language_info": {
      "name": "python"
    }
  },
  "cells": [
    {
      "cell_type": "markdown",
      "metadata": {
        "id": "view-in-github",
        "colab_type": "text"
      },
      "source": [
        "<a href=\"https://colab.research.google.com/github/phmouras/Python_Exercises/blob/main/Exercises_9.ipynb\" target=\"_parent\"><img src=\"https://colab.research.google.com/assets/colab-badge.svg\" alt=\"Open In Colab\"/></a>"
      ]
    },
    {
      "cell_type": "markdown",
      "metadata": {
        "id": "URe68G38jyjD"
      },
      "source": [
        "Exercício 1"
      ]
    },
    {
      "cell_type": "code",
      "metadata": {
        "colab": {
          "base_uri": "https://localhost:8080/"
        },
        "id": "H-_g0J3Zdgd-",
        "outputId": "6e2f1556-93ef-48a4-d14b-bea7e0e45639"
      },
      "source": [
        "def dobrar_elementos(uma_lista):\n",
        "    \"\"\" Reescreve os elementos de uma_lista com o dobro de seus valores originais.\n",
        "    \"\"\"\n",
        "    for (i, valor) in enumerate(uma_lista):\n",
        "        novo_elem = 2 * valor\n",
        "        uma_lista[i] = novo_elem\n",
        "        \n",
        "    return uma_lista\n",
        "\n",
        "minha_lista = [2, 4, 6]\n",
        "print(minha_lista)\n",
        "dobrar_elementos(minha_lista)\n",
        "print(minha_lista)"
      ],
      "execution_count": 6,
      "outputs": [
        {
          "output_type": "stream",
          "name": "stdout",
          "text": [
            "[2, 4, 6]\n",
            "[4, 8, 12]\n"
          ]
        }
      ]
    },
    {
      "cell_type": "markdown",
      "metadata": {
        "id": "NJQgmrxajxKE"
      },
      "source": [
        ""
      ]
    }
  ]
}