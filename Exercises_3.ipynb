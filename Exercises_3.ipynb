{
  "nbformat": 4,
  "nbformat_minor": 0,
  "metadata": {
    "colab": {
      "name": "Exercises_3.ipynb",
      "provenance": [],
      "authorship_tag": "ABX9TyOL6SxUEsND1m76hpQ/oZE8",
      "include_colab_link": true
    },
    "kernelspec": {
      "name": "python3",
      "display_name": "Python 3"
    },
    "language_info": {
      "name": "python"
    }
  },
  "cells": [
    {
      "cell_type": "markdown",
      "metadata": {
        "id": "view-in-github",
        "colab_type": "text"
      },
      "source": [
        "<a href=\"https://colab.research.google.com/github/phmouras/Python_Exercises/blob/main/Exercises_3.ipynb\" target=\"_parent\"><img src=\"https://colab.research.google.com/assets/colab-badge.svg\" alt=\"Open In Colab\"/></a>"
      ]
    },
    {
      "cell_type": "markdown",
      "metadata": {
        "id": "Za_2GlpCKTMw"
      },
      "source": [
        "Exercício 1"
      ]
    },
    {
      "cell_type": "code",
      "metadata": {
        "id": "blx8JirqKIbu"
      },
      "source": [
        "def func(x):\n",
        "  print('O valor é',x , 'e seu tipo é', type(x))\n",
        "  "
      ],
      "execution_count": null,
      "outputs": []
    },
    {
      "cell_type": "code",
      "metadata": {
        "colab": {
          "base_uri": "https://localhost:8080/"
        },
        "id": "tyIpU3ziL6zH",
        "outputId": "54a1e0e7-fce1-495a-d6e8-f9b8ed0451a1"
      },
      "source": [
        "func(5)"
      ],
      "execution_count": null,
      "outputs": [
        {
          "output_type": "stream",
          "text": [
            "O valor é 5 e seu tipo é <class 'int'>\n"
          ],
          "name": "stdout"
        }
      ]
    },
    {
      "cell_type": "code",
      "metadata": {
        "id": "V_ePfdRuMhGW"
      },
      "source": [
        ""
      ],
      "execution_count": null,
      "outputs": []
    },
    {
      "cell_type": "markdown",
      "metadata": {
        "id": "5lquSjKPMV6G"
      },
      "source": [
        "Exercício 2"
      ]
    },
    {
      "cell_type": "code",
      "metadata": {
        "colab": {
          "base_uri": "https://localhost:8080/"
        },
        "id": "mIHvxzaZMXyN",
        "outputId": "53e4c82f-bd5c-4169-b4fa-80966c863b20"
      },
      "source": [
        "def Movimento_MRU(posicao_inicial, posicao_final, tempo):\n",
        "  velocidade_media = (posicao_final - posicao_inicial)/tempo\n",
        "  print('A velocidade média para MRU é:',velocidade_media)\n",
        "\n",
        "  \n",
        "Movimento_MRU(10,20,5)\n",
        "  \n",
        "\n",
        "\n",
        "\n",
        "\n"
      ],
      "execution_count": null,
      "outputs": [
        {
          "output_type": "stream",
          "text": [
            "A velocidade média é: 2.0\n"
          ],
          "name": "stdout"
        }
      ]
    },
    {
      "cell_type": "code",
      "metadata": {
        "id": "SYzhT5ya6O5_",
        "colab": {
          "base_uri": "https://localhost:8080/"
        },
        "outputId": "2e484cb1-1a40-485c-930e-ecb74ed4de0c"
      },
      "source": [
        "def Movimento_MRUA(aceleracao,tempo):\n",
        "  velocidade_media = aceleracao*tempo\n",
        "  print('A velocidade média para o MRUA é',velocidade_media)\n",
        "\n",
        "Movimento_MRUA(5,5)  \n"
      ],
      "execution_count": null,
      "outputs": [
        {
          "output_type": "stream",
          "text": [
            "A velocidade média para o MRUA é 25\n"
          ],
          "name": "stdout"
        }
      ]
    },
    {
      "cell_type": "code",
      "metadata": {
        "id": "JIoN41r6wYuh",
        "outputId": "583ee420-9cb7-458a-9bad-d14466a2de3d",
        "colab": {
          "base_uri": "https://localhost:8080/"
        }
      },
      "source": [
        "import math\n",
        "def angulo_zenital(altura, comprimento):\n",
        "  tg_theta = altura/comprimento\n",
        "  theta = math.atan(tg_theta)\n",
        "  degrees_theta = math.degrees(theta)\n",
        "  print(\"O ângulo zenital é\",degrees_theta,\"graus\")\n",
        "\n",
        "angulo_zenital(20,5)  "
      ],
      "execution_count": 1,
      "outputs": [
        {
          "output_type": "stream",
          "text": [
            "O ângulo zenital é 75.96375653207353 graus\n"
          ],
          "name": "stdout"
        }
      ]
    },
    {
      "cell_type": "markdown",
      "metadata": {
        "id": "KLmK-gMb0wNV"
      },
      "source": [
        ""
      ]
    },
    {
      "cell_type": "code",
      "metadata": {
        "id": "l2raX8LrwYsF",
        "outputId": "97fe44bf-741b-46e7-ad3b-54ba2be5b56d",
        "colab": {
          "base_uri": "https://localhost:8080/"
        }
      },
      "source": [
        "def conversor_metro (milhas):\n",
        "  metros = 1000* milhas/1.61\n",
        "  print(milhas,'milhas é igual a',metros,'metros')\n",
        "\n",
        "conversor_metro(4)\n",
        "\n",
        "def conversor_milhas (metros):\n",
        "  milhas = 1000* metros*1.61\n",
        "  print(metros,'metros é igual a',milhas,'milhas')\n",
        "\n",
        "\n"
      ],
      "execution_count": 14,
      "outputs": [
        {
          "output_type": "stream",
          "text": [
            "4 milhas é igual a 2484.472049689441 metros\n"
          ],
          "name": "stdout"
        }
      ]
    },
    {
      "cell_type": "code",
      "metadata": {
        "id": "FkUjOuZwwYp0",
        "outputId": "f8465f44-7b15-47b5-bdef-e876a0c338f0",
        "colab": {
          "base_uri": "https://localhost:8080/"
        }
      },
      "source": [
        "def conversor_segundos(horas):\n",
        "  segundos = 3600*horas\n",
        "  print(horas,'horas é igual a',segundos,'segundos')\n",
        "\n",
        "conversor_segundos(2)\n",
        "\n",
        "def conversor_horas(segundos):\n",
        "  horas = segundos/3600\n",
        "  print(segundos,'segundos é igual a',horas,'horas')\n",
        "\n",
        "conversor_horas(7200)\n"
      ],
      "execution_count": 12,
      "outputs": [
        {
          "output_type": "stream",
          "text": [
            "2 horas é igual a 7200 segundos\n",
            "7200 segundos é igual a 2.0 horas\n"
          ],
          "name": "stdout"
        }
      ]
    },
    {
      "cell_type": "code",
      "metadata": {
        "id": "V1ZRlzotwYnt",
        "outputId": "0281b498-5968-4424-b311-893bcc437cf9",
        "colab": {
          "base_uri": "https://localhost:8080/"
        }
      },
      "source": [
        "\n",
        "\n",
        "def velocidade(tempo,distancia):\n",
        "  velocidade =distancia/tempo\n",
        "  print('a velocidade média é igual a',velocidade,'km/h')\n",
        "\n",
        "velocidade(0.5, 2.484472049689441)\n",
        "\n",
        "def tempo_medio (velocidade,distancia):\n",
        "  tempo = distancia/velocidade\n",
        "\n",
        "  print('O tempo médio para percorrer 1 km é', tempo)\n",
        "\n",
        "tempo_medio(4.968944099378882,1)\n",
        "\n",
        "\n"
      ],
      "execution_count": 18,
      "outputs": [
        {
          "output_type": "stream",
          "text": [
            "a velocidade média é igual a 4.968944099378882 km/h\n",
            "O tempo médio para percorrer 1 km é 0.20125\n"
          ],
          "name": "stdout"
        }
      ]
    },
    {
      "cell_type": "code",
      "metadata": {
        "id": "ldxJO0kZwYlM"
      },
      "source": [
        ""
      ],
      "execution_count": null,
      "outputs": []
    },
    {
      "cell_type": "code",
      "metadata": {
        "id": "aC1BYspNwYcd"
      },
      "source": [
        ""
      ],
      "execution_count": null,
      "outputs": []
    }
  ]
}