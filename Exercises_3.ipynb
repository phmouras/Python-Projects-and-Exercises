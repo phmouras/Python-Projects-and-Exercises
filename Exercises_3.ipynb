{
  "nbformat": 4,
  "nbformat_minor": 0,
  "metadata": {
    "colab": {
      "name": "Exercises_3.ipynb",
      "provenance": [],
      "authorship_tag": "ABX9TyMA4FwLVyTxGdwGv+N1VMzf",
      "include_colab_link": true
    },
    "kernelspec": {
      "name": "python3",
      "display_name": "Python 3"
    },
    "language_info": {
      "name": "python"
    }
  },
  "cells": [
    {
      "cell_type": "markdown",
      "metadata": {
        "id": "view-in-github",
        "colab_type": "text"
      },
      "source": [
        "<a href=\"https://colab.research.google.com/github/phmouras/Python_Exercises/blob/main/Exercises_3.ipynb\" target=\"_parent\"><img src=\"https://colab.research.google.com/assets/colab-badge.svg\" alt=\"Open In Colab\"/></a>"
      ]
    },
    {
      "cell_type": "markdown",
      "metadata": {
        "id": "Za_2GlpCKTMw"
      },
      "source": [
        "Exercício 1"
      ]
    },
    {
      "cell_type": "code",
      "metadata": {
        "id": "blx8JirqKIbu"
      },
      "source": [
        "def func(x):\n",
        "  print('O valor é',x , 'e seu tipo é', type(x))\n",
        "  "
      ],
      "execution_count": 9,
      "outputs": []
    },
    {
      "cell_type": "code",
      "metadata": {
        "colab": {
          "base_uri": "https://localhost:8080/"
        },
        "id": "tyIpU3ziL6zH",
        "outputId": "54a1e0e7-fce1-495a-d6e8-f9b8ed0451a1"
      },
      "source": [
        "func(5)"
      ],
      "execution_count": 11,
      "outputs": [
        {
          "output_type": "stream",
          "text": [
            "O valor é 5 e seu tipo é <class 'int'>\n"
          ],
          "name": "stdout"
        }
      ]
    },
    {
      "cell_type": "code",
      "metadata": {
        "id": "V_ePfdRuMhGW"
      },
      "source": [
        ""
      ],
      "execution_count": null,
      "outputs": []
    },
    {
      "cell_type": "markdown",
      "metadata": {
        "id": "5lquSjKPMV6G"
      },
      "source": [
        "Exercício 2"
      ]
    },
    {
      "cell_type": "code",
      "metadata": {
        "colab": {
          "base_uri": "https://localhost:8080/"
        },
        "id": "mIHvxzaZMXyN",
        "outputId": "53e4c82f-bd5c-4169-b4fa-80966c863b20"
      },
      "source": [
        "def Movimento_MRU(posicao_inicial, posicao_final, tempo):\n",
        "  velocidade_media = (posicao_final - posicao_inicial)/tempo\n",
        "  print('A velocidade média para MRU é:',velocidade_media)\n",
        "\n",
        "  \n",
        "Movimento_MRU(10,20,5)\n",
        "  \n",
        "\n",
        "\n",
        "\n",
        "\n"
      ],
      "execution_count": 12,
      "outputs": [
        {
          "output_type": "stream",
          "text": [
            "A velocidade média é: 2.0\n"
          ],
          "name": "stdout"
        }
      ]
    },
    {
      "cell_type": "code",
      "metadata": {
        "id": "SYzhT5ya6O5_",
        "outputId": "2e484cb1-1a40-485c-930e-ecb74ed4de0c",
        "colab": {
          "base_uri": "https://localhost:8080/"
        }
      },
      "source": [
        "def Movimento_MRUA(aceleracao,tempo):\n",
        "  velocidade_media = aceleracao*tempo\n",
        "  print('A velocidade média para o MRUA é',velocidade_media)\n",
        "\n",
        "Movimento_MRUA(5,5)  \n"
      ],
      "execution_count": 14,
      "outputs": [
        {
          "output_type": "stream",
          "text": [
            "A velocidade média para o MRUA é 25\n"
          ],
          "name": "stdout"
        }
      ]
    }
  ]
}