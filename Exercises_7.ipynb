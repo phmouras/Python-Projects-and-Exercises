{
  "nbformat": 4,
  "nbformat_minor": 0,
  "metadata": {
    "colab": {
      "name": "Exercises_7.ipynb",
      "provenance": [],
      "authorship_tag": "ABX9TyMWUxyAM5GI0HCj3Vp56Zzp",
      "include_colab_link": true
    },
    "kernelspec": {
      "name": "python3",
      "display_name": "Python 3"
    },
    "language_info": {
      "name": "python"
    }
  },
  "cells": [
    {
      "cell_type": "markdown",
      "metadata": {
        "id": "view-in-github",
        "colab_type": "text"
      },
      "source": [
        "<a href=\"https://colab.research.google.com/github/phmouras/Python_Exercises/blob/main/Exercises_7.ipynb\" target=\"_parent\"><img src=\"https://colab.research.google.com/assets/colab-badge.svg\" alt=\"Open In Colab\"/></a>"
      ]
    },
    {
      "cell_type": "markdown",
      "metadata": {
        "id": "KviWEMh0bYpJ"
      },
      "source": [
        "Exercícios Parte 1"
      ]
    },
    {
      "cell_type": "markdown",
      "metadata": {
        "id": "uraTjd5Alem3"
      },
      "source": [
        "1)"
      ]
    },
    {
      "cell_type": "code",
      "metadata": {
        "id": "I__vPENjbWor",
        "colab": {
          "base_uri": "https://localhost:8080/"
        },
        "outputId": "32825316-4212-4f1b-fb7e-eb4afb482736"
      },
      "source": [
        "def collatz(n):\n",
        "  while n > 1:\n",
        "    if n % 2 == 0:\n",
        "      n = n/2\n",
        "    elif n % 2 == 1:\n",
        "      n = 3*n + 1\n",
        "    else:\n",
        "      break\n",
        "    print(n)\n",
        "    \n",
        "  \n",
        "\n",
        "collatz(20)\n",
        "\n",
        "  \n",
        "\n",
        "\n",
        "\n",
        "\n",
        "\n",
        "\n"
      ],
      "execution_count": null,
      "outputs": [
        {
          "output_type": "stream",
          "name": "stdout",
          "text": [
            "10.0\n",
            "5.0\n",
            "16.0\n",
            "8.0\n",
            "4.0\n",
            "2.0\n",
            "1.0\n"
          ]
        }
      ]
    },
    {
      "cell_type": "markdown",
      "metadata": {
        "id": "WSES-c64TNLD"
      },
      "source": [
        "2)"
      ]
    },
    {
      "cell_type": "code",
      "metadata": {
        "colab": {
          "base_uri": "https://localhost:8080/"
        },
        "id": "m8Ec5uoYRVsT",
        "outputId": "06eb340a-a953-4474-9242-7e101bf272d0"
      },
      "source": [
        "import time, os\n",
        "\n",
        "os.system('cls')\n",
        "\n",
        "def counter(n):\n",
        "    procurar = str(n)\n",
        "    count = 0\n",
        "    while n!=0:\n",
        "        count = count + 1\n",
        "        n = n // 10       # divisão de inteiros\n",
        "        print(f'Variável N: {n}\\nVariável COUNT: {count}\\n')\n",
        "\n",
        "        time.sleep(0.01)\n",
        "\n",
        "    procurando_numeros(procurar)\n",
        "    \n",
        "    \n",
        "def procurando_numeros(procurar):\n",
        "    contagem_5 = 0\n",
        "    contagem_0 = 0\n",
        "\n",
        "    for x in procurar:\n",
        "        print(x)      \n",
        "        if x == '5':\n",
        "            contagem_5 = contagem_5 + 1\n",
        "\n",
        "        elif x == '0':\n",
        "            contagem_0 = contagem_0 + 1\n",
        "\n",
        "    if contagem_5 > 0 and contagem_0 > 0:\n",
        "        print(f'\\n\\nO inteiro digitado tem {contagem_5} número(s) 5 e {contagem_0} número(s) 0')\n",
        "\n",
        "    elif contagem_5 > 0 and contagem_0 == 0:\n",
        "        print(f'\\n\\nO inteiro digitado tem {contagem_5} número(s) 5')\n",
        "\n",
        "    elif contagem_5 == 0 and contagem_0 > 0:\n",
        "        print(f'\\n\\nO inteiro digitado tem {contagem_0} número(s) 0')\n",
        "\n",
        "    elif contagem_5 == 0 and contagem_0 == 0:\n",
        "        print(f'\\n\\nNão há o digito 5 e 0')\n",
        "    \n",
        "        \n",
        "        \n",
        "\n",
        "\n",
        "counter(1510)\n",
        "  \n",
        "\n"
      ],
      "execution_count": 1,
      "outputs": [
        {
          "output_type": "stream",
          "name": "stdout",
          "text": [
            "Variável N: 151\n",
            "Variável COUNT: 1\n",
            "\n",
            "Variável N: 15\n",
            "Variável COUNT: 2\n",
            "\n",
            "Variável N: 1\n",
            "Variável COUNT: 3\n",
            "\n",
            "Variável N: 0\n",
            "Variável COUNT: 4\n",
            "\n",
            "1\n",
            "5\n",
            "1\n",
            "0\n",
            "\n",
            "\n",
            "O inteiro digitado tem 1 número(s) 5 e 1 número(s) 0\n"
          ]
        }
      ]
    },
    {
      "cell_type": "markdown",
      "metadata": {
        "id": "5FO4n-WsaCmZ"
      },
      "source": [
        "3)"
      ]
    },
    {
      "cell_type": "code",
      "metadata": {
        "colab": {
          "base_uri": "https://localhost:8080/"
        },
        "id": "SBi9nk5eaCHy",
        "outputId": "f2e68ad6-4988-4c51-f72b-39863dbd6d67"
      },
      "source": [
        "\n",
        "for i in ([2,4,5,8,9]):\n",
        "  if i % 2 == 1:   # If the number is odd\n",
        "    break          #  ... immediately exit the loop  \n",
        "  print(i)    \n",
        "print(\"done\")\n",
        "\n",
        "    \n",
        "\n",
        "\n",
        "\n"
      ],
      "execution_count": null,
      "outputs": [
        {
          "output_type": "stream",
          "name": "stdout",
          "text": [
            "2\n",
            "4\n",
            "done\n"
          ]
        }
      ]
    },
    {
      "cell_type": "markdown",
      "metadata": {
        "id": "DnP7Q9G4hlZa"
      },
      "source": [
        "4)"
      ]
    },
    {
      "cell_type": "code",
      "metadata": {
        "id": "wKi9VlAKhmbx",
        "colab": {
          "base_uri": "https://localhost:8080/"
        },
        "outputId": "7692b1ab-82a5-4bb1-867b-1088863d4449"
      },
      "source": [
        "import math\n",
        "\n",
        "def sqrt_newton(n, approx):\n",
        "  while n > 1:\n",
        "    melhor = (approx + n/approx)/2\n",
        "    approx = melhor\n",
        "    return melhor\n",
        "  \n",
        "sqrt_newton(49,3)\n",
        "  \n",
        "\n",
        " \n",
        "\n",
        "\n",
        "    \n",
        "\n",
        "\n"
      ],
      "execution_count": null,
      "outputs": [
        {
          "output_type": "execute_result",
          "data": {
            "text/plain": [
              "9.666666666666666"
            ]
          },
          "metadata": {},
          "execution_count": 19
        }
      ]
    },
    {
      "cell_type": "markdown",
      "metadata": {
        "id": "TAFl-Anr8FCc"
      },
      "source": [
        "Exercícios 2"
      ]
    },
    {
      "cell_type": "markdown",
      "metadata": {
        "id": "FccXG3U78Hkb"
      },
      "source": [
        "1."
      ]
    },
    {
      "cell_type": "code",
      "metadata": {
        "id": "ThrXNkgc8GdM"
      },
      "source": [
        "import time\n",
        "time.time()\n",
        "\n",
        "minutos_anos = 24 * 3600 * 365\n",
        "\n",
        "anos = time.time() // (minutos_anos)\n",
        "\n",
        "print(anos)\n",
        "\n",
        "hora = time.time () // 3600\n",
        "\n",
        "print(hora, 'horas passadas')\n",
        "\n",
        "minutos = time.time() // 60\n",
        "\n",
        "print(minutos)\n",
        "\n",
        "print(int(time.time()))\n",
        "\n",
        "\n",
        "hora_rj = \n"
      ],
      "execution_count": null,
      "outputs": []
    },
    {
      "cell_type": "markdown",
      "metadata": {
        "id": "b8UzYTce-jIL"
      },
      "source": [
        "2."
      ]
    },
    {
      "cell_type": "code",
      "metadata": {
        "id": "4gAA8rAm-lKb"
      },
      "source": [
        "def check_fermat(a, b, c, n):\n",
        "  if n > 2 and a**n + b**n == c**n:\n",
        "    print('Holy smokes, Fermat was wrong!')\n",
        "  else: \n",
        "      print('No, that doesn’t work')\n",
        "\n",
        "check_fermat(5,1,4,2)   "
      ],
      "execution_count": null,
      "outputs": []
    },
    {
      "cell_type": "markdown",
      "metadata": {
        "id": "SC2y7vlRcKVo"
      },
      "source": [
        "3."
      ]
    },
    {
      "cell_type": "code",
      "metadata": {
        "id": "Mui0GVIw-mPT",
        "colab": {
          "base_uri": "https://localhost:8080/",
          "height": 256
        },
        "outputId": "b28be68c-c7d1-4683-dbed-db7f841b2ee8"
      },
      "source": [
        "\n",
        "str_list = input(\"Escreva os três números para os lados do triângulo\")\n",
        "n_triangulo = []\n",
        "lista = (str_list.split())\n",
        "\n",
        "for elem in lista:\n",
        "  n_triangulo.append(int(elem))\n",
        "\n",
        "if  len(n_triangulo) != 3:\n",
        "  print(\"Seu burro, um triângulo possui três lados\")\n",
        "  quit()\n",
        "\n",
        "\n",
        "def is_triangle (n_triangulo):\n",
        "  a = n_triangulo(0)\n",
        "  b = n_triangulo(1)\n",
        "  c = n_triangulo(2)\n",
        "  if a > b + c or b > a + c or c > b + c:\n",
        "    print('No')\n",
        "  else:\n",
        "    print('Yes')\n",
        "\n",
        "n_triangulo(0)\n",
        "\n",
        "\n",
        "\n",
        "\n",
        "\n",
        "  \n",
        "  "
      ],
      "execution_count": 35,
      "outputs": [
        {
          "name": "stdout",
          "output_type": "stream",
          "text": [
            "Escreva os três números para os lados do triângulo2 3 4\n"
          ]
        },
        {
          "output_type": "error",
          "ename": "TypeError",
          "evalue": "ignored",
          "traceback": [
            "\u001b[0;31m---------------------------------------------------------------------------\u001b[0m",
            "\u001b[0;31mTypeError\u001b[0m                                 Traceback (most recent call last)",
            "\u001b[0;32m<ipython-input-35-d4ec805ddbbe>\u001b[0m in \u001b[0;36m<module>\u001b[0;34m()\u001b[0m\n\u001b[1;32m     21\u001b[0m     \u001b[0mprint\u001b[0m\u001b[0;34m(\u001b[0m\u001b[0;34m'Yes'\u001b[0m\u001b[0;34m)\u001b[0m\u001b[0;34m\u001b[0m\u001b[0;34m\u001b[0m\u001b[0m\n\u001b[1;32m     22\u001b[0m \u001b[0;34m\u001b[0m\u001b[0m\n\u001b[0;32m---> 23\u001b[0;31m \u001b[0mn_triangulo\u001b[0m\u001b[0;34m(\u001b[0m\u001b[0;36m0\u001b[0m\u001b[0;34m)\u001b[0m\u001b[0;34m\u001b[0m\u001b[0;34m\u001b[0m\u001b[0m\n\u001b[0m\u001b[1;32m     24\u001b[0m \u001b[0;34m\u001b[0m\u001b[0m\n\u001b[1;32m     25\u001b[0m \u001b[0;34m\u001b[0m\u001b[0m\n",
            "\u001b[0;31mTypeError\u001b[0m: 'list' object is not callable"
          ]
        }
      ]
    },
    {
      "cell_type": "markdown",
      "metadata": {
        "id": "d1yn62y5mZei"
      },
      "source": [
        "4."
      ]
    },
    {
      "cell_type": "code",
      "metadata": {
        "id": "KLUXWldWma07"
      },
      "source": [
        ""
      ],
      "execution_count": null,
      "outputs": []
    }
  ]
}