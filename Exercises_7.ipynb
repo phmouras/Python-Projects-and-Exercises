{
  "nbformat": 4,
  "nbformat_minor": 0,
  "metadata": {
    "colab": {
      "name": "Exercises_7.ipynb",
      "provenance": [],
      "authorship_tag": "ABX9TyNMmBhvIUS/7WV/ZrVOuRvr",
      "include_colab_link": true
    },
    "kernelspec": {
      "name": "python3",
      "display_name": "Python 3"
    },
    "language_info": {
      "name": "python"
    }
  },
  "cells": [
    {
      "cell_type": "markdown",
      "metadata": {
        "id": "view-in-github",
        "colab_type": "text"
      },
      "source": [
        "<a href=\"https://colab.research.google.com/github/phmouras/Python_Exercises/blob/main/Exercises_7.ipynb\" target=\"_parent\"><img src=\"https://colab.research.google.com/assets/colab-badge.svg\" alt=\"Open In Colab\"/></a>"
      ]
    },
    {
      "cell_type": "markdown",
      "metadata": {
        "id": "KviWEMh0bYpJ"
      },
      "source": [
        "Exercícios Parte 1"
      ]
    },
    {
      "cell_type": "markdown",
      "metadata": {
        "id": "uraTjd5Alem3"
      },
      "source": [
        "1)"
      ]
    },
    {
      "cell_type": "code",
      "metadata": {
        "id": "I__vPENjbWor",
        "colab": {
          "base_uri": "https://localhost:8080/"
        },
        "outputId": "d2635c18-7d09-4fef-bea7-38a90b1e6c97"
      },
      "source": [
        "def collatz(n):\n",
        "  while n > 1:\n",
        "    if n % 2 == 0:\n",
        "      n = n/2\n",
        "    elif n % 2 == 1:\n",
        "      n = 3*n + 1\n",
        "    else:\n",
        "      break\n",
        "    print(n)\n",
        "    \n",
        "  \n",
        "\n",
        "collatz(21)\n",
        "\n",
        "  \n",
        "\n",
        "\n",
        "\n",
        "\n",
        "\n",
        "\n"
      ],
      "execution_count": 1,
      "outputs": [
        {
          "output_type": "stream",
          "name": "stdout",
          "text": [
            "64\n",
            "32.0\n",
            "16.0\n",
            "8.0\n",
            "4.0\n",
            "2.0\n",
            "1.0\n"
          ]
        }
      ]
    },
    {
      "cell_type": "markdown",
      "metadata": {
        "id": "WSES-c64TNLD"
      },
      "source": [
        "2)"
      ]
    },
    {
      "cell_type": "code",
      "metadata": {
        "colab": {
          "base_uri": "https://localhost:8080/"
        },
        "id": "m8Ec5uoYRVsT",
        "outputId": "9e4acc2e-7de0-4e8c-9b6c-9adfb567d56a"
      },
      "source": [
        "import time, os\n",
        "\n",
        "os.system('cls')\n",
        "\n",
        "def counter(n):\n",
        "    procurar = str(n)\n",
        "    count = 0\n",
        "    while n!=0:\n",
        "        count = count + 1\n",
        "        n = n // 10       # divisão de inteiros\n",
        "        print(f'Variável N: {n}\\nVariável COUNT: {count}\\n')\n",
        "\n",
        "        time.sleep(0.01)\n",
        "\n",
        "    procurando_numeros(procurar)\n",
        "    \n",
        "    \n",
        "def procurando_numeros(procurar):\n",
        "    contagem_5 = 0\n",
        "    contagem_0 = 0\n",
        "\n",
        "    for x in procurar:\n",
        "        print(x)      \n",
        "        if x == '5':\n",
        "            contagem_5 = contagem_5 + 1\n",
        "\n",
        "        elif x == '0':\n",
        "            contagem_0 = contagem_0 + 1\n",
        "\n",
        "    if contagem_5 > 0 and contagem_0 > 0:\n",
        "        print(f'\\n\\nO inteiro digitado tem {contagem_5} número(s) 5 e {contagem_0} número(s) 0')\n",
        "\n",
        "    elif contagem_5 > 0 and contagem_0 == 0:\n",
        "        print(f'\\n\\nO inteiro digitado tem {contagem_5} número(s) 5')\n",
        "\n",
        "    elif contagem_5 == 0 and contagem_0 > 0:\n",
        "        print(f'\\n\\nO inteiro digitado tem {contagem_0} número(s) 0')\n",
        "\n",
        "    elif contagem_5 == 0 and contagem_0 == 0:\n",
        "        print(f'\\n\\nNão há o digito 5 e 0')\n",
        "    \n",
        "        \n",
        "        \n",
        "\n",
        "\n",
        "counter(85500)\n",
        "  \n",
        "\n"
      ],
      "execution_count": 3,
      "outputs": [
        {
          "output_type": "stream",
          "name": "stdout",
          "text": [
            "Variável N: 8550\n",
            "Variável COUNT: 1\n",
            "\n",
            "Variável N: 855\n",
            "Variável COUNT: 2\n",
            "\n",
            "Variável N: 85\n",
            "Variável COUNT: 3\n",
            "\n",
            "Variável N: 8\n",
            "Variável COUNT: 4\n",
            "\n",
            "Variável N: 0\n",
            "Variável COUNT: 5\n",
            "\n",
            "8\n",
            "5\n",
            "5\n",
            "0\n",
            "0\n",
            "\n",
            "\n",
            "O inteiro digitado tem 2 número(s) 5 e 2 número(s) 0\n"
          ]
        }
      ]
    },
    {
      "cell_type": "markdown",
      "metadata": {
        "id": "5FO4n-WsaCmZ"
      },
      "source": [
        "3)"
      ]
    },
    {
      "cell_type": "code",
      "metadata": {
        "colab": {
          "base_uri": "https://localhost:8080/"
        },
        "id": "SBi9nk5eaCHy",
        "outputId": "cd54e8bf-2dd0-4b0a-fa7b-bf350fdc85d7"
      },
      "source": [
        "def lista_n(lista):\n",
        "  for i in lista:\n",
        "    if i % 2 == 1:   # If the number is odd\n",
        "      break          #  ... immediately exit the loop  \n",
        "    print(i)    \n",
        "  print(\"done\")\n",
        "\n",
        "lista_n([20,22,24,26,27])\n",
        "    \n",
        "\n",
        "\n",
        "\n"
      ],
      "execution_count": 4,
      "outputs": [
        {
          "output_type": "stream",
          "name": "stdout",
          "text": [
            "20\n",
            "22\n",
            "24\n",
            "26\n",
            "done\n"
          ]
        }
      ]
    },
    {
      "cell_type": "markdown",
      "metadata": {
        "id": "DnP7Q9G4hlZa"
      },
      "source": [
        "4)"
      ]
    },
    {
      "cell_type": "code",
      "metadata": {
        "id": "wKi9VlAKhmbx",
        "colab": {
          "base_uri": "https://localhost:8080/"
        },
        "outputId": "6198b7d5-4d4d-4187-f136-17205035b69f"
      },
      "source": [
        "import math\n",
        "\n",
        "def sqrt_newton(n,precisao):\n",
        "  approx = n\n",
        "  while True:\n",
        "    melhor = (approx + n/approx)/2\n",
        "    if abs(melhor - approx) < precisao:\n",
        "      return melhor\n",
        "    else:\n",
        "      approx = melhor\n",
        "  \n",
        "sqrt_newton(4,0.001)\n",
        "  \n",
        "\n",
        " \n",
        "\n",
        "\n",
        "    \n",
        "\n",
        "\n"
      ],
      "execution_count": 13,
      "outputs": [
        {
          "output_type": "execute_result",
          "data": {
            "text/plain": [
              "2.0000000929222947"
            ]
          },
          "metadata": {},
          "execution_count": 13
        }
      ]
    },
    {
      "cell_type": "markdown",
      "metadata": {
        "id": "TAFl-Anr8FCc"
      },
      "source": [
        "Exercícios 2"
      ]
    },
    {
      "cell_type": "markdown",
      "metadata": {
        "id": "FccXG3U78Hkb"
      },
      "source": [
        "1."
      ]
    },
    {
      "cell_type": "code",
      "metadata": {
        "id": "ThrXNkgc8GdM",
        "colab": {
          "base_uri": "https://localhost:8080/",
          "height": 71
        },
        "outputId": "43e9ac1f-9d9c-4c12-ff4f-95041e7f573e"
      },
      "source": [
        "import time\n",
        "time.time()\n",
        "\n",
        "#minutos_anos = 24 * 3600 * 365\n",
        "\n",
        "#anos = time.time() // (minutos_anos)\n",
        "\n",
        "#dias = minutos_anos // (24*60)\n",
        "\n",
        "#print(anos, 'anos passados')\n",
        "\n",
        "#print(dias,'dias passados')\n",
        "\n",
        "#hora = time.time () // 3600\n",
        "\n",
        "#print(hora, 'horas passadas')\n",
        "\n",
        "#minutos = time.time() // 60\n",
        "\n",
        "#print(minutos,'minutos passados')\n",
        "\n",
        "#print(time.time(),'segundos passados'\n",
        "\n",
        "def convert_to_preferred_format(sec):\n",
        "   sec = sec % (24 * 3600)\n",
        "   hour = (sec // 3600) - 3\n",
        "   sec %= 3600\n",
        "   min = sec // 60\n",
        "   sec %= 60\n",
        "   print(\"seconds value in hours:\",hour)\n",
        "   print(\"seconds value in minutes:\",min)\n",
        "   return \"%02d:%02d:%02d\" % (hour, min, sec)\n",
        "\n",
        "convert_to_preferred_format(time.time())\n",
        "\n",
        "\n",
        "\n",
        "\n"
      ],
      "execution_count": 27,
      "outputs": [
        {
          "output_type": "stream",
          "name": "stdout",
          "text": [
            "seconds value in hours: 11.0\n",
            "seconds value in minutes: 32.0\n"
          ]
        },
        {
          "output_type": "execute_result",
          "data": {
            "application/vnd.google.colaboratory.intrinsic+json": {
              "type": "string"
            },
            "text/plain": [
              "'11:32:45'"
            ]
          },
          "metadata": {},
          "execution_count": 27
        }
      ]
    },
    {
      "cell_type": "markdown",
      "metadata": {
        "id": "b8UzYTce-jIL"
      },
      "source": [
        "2."
      ]
    },
    {
      "cell_type": "code",
      "metadata": {
        "id": "4gAA8rAm-lKb",
        "colab": {
          "base_uri": "https://localhost:8080/"
        },
        "outputId": "7ee6d98f-f937-40bf-d352-42edbad4e762"
      },
      "source": [
        "def check_fermat(a, b, c, n):\n",
        "  if n > 2 and a**n + b**n == c**n:\n",
        "    print('Holy smokes, Fermat was wrong!')\n",
        "  else: \n",
        "      print('No, that doesn’t work')\n",
        "\n",
        "def test_fermat():\n",
        "  a = int(input(\"Escreva o primeiro número\"))\n",
        "  b = int(input(\"Escreva o segundo número\"))\n",
        "  c = int(input(\"Escreva o terceiro número\"))\n",
        "  n = int(input(\"Escreva o quarto número\"))\n",
        "  check_fermat(a,b,c,n)\n",
        "\n",
        "test_fermat()\n",
        "\n",
        " "
      ],
      "execution_count": 31,
      "outputs": [
        {
          "output_type": "stream",
          "name": "stdout",
          "text": [
            "Escreva o primeiro número2\n",
            "Escreva o segundo número3\n",
            "Escreva o terceiro número4\n",
            "Escreva o quarto número2\n",
            "No, that doesn’t work\n"
          ]
        }
      ]
    },
    {
      "cell_type": "markdown",
      "metadata": {
        "id": "SC2y7vlRcKVo"
      },
      "source": [
        "3."
      ]
    },
    {
      "cell_type": "code",
      "metadata": {
        "id": "Mui0GVIw-mPT",
        "colab": {
          "base_uri": "https://localhost:8080/"
        },
        "outputId": "835168e2-050a-4f40-c010-904d0b6c952f"
      },
      "source": [
        "\n",
        "def is_triangle (n_triangulo):\n",
        "  a = n_triangulo[0]\n",
        "  b = n_triangulo[1]\n",
        "  c = n_triangulo[2]\n",
        "  if a > b + c or b > a + c or c > b + c:\n",
        "    print('No')\n",
        "  else:\n",
        "    print('Yes')\n",
        "\n",
        "def test_triangle():\n",
        "  str_list = input(\"Escreva os três números para os lados do triângulo\")\n",
        "  n_triangulo = []\n",
        "  lista = (str_list.split())\n",
        "\n",
        "  for elem in lista:\n",
        "    n_triangulo.append(int(elem))\n",
        "\n",
        "  if  len(n_triangulo) != 3:\n",
        "    print(\"Seu burro, um triângulo possui três lados\")\n",
        "    quit()\n",
        "  \n",
        "  is_triangle(n_triangulo)\n",
        "\n",
        "test_triangle()\n",
        "\n",
        "\n",
        "\n",
        "\n",
        "\n",
        "  \n",
        "  "
      ],
      "execution_count": 35,
      "outputs": [
        {
          "output_type": "stream",
          "name": "stdout",
          "text": [
            "Escreva os três números para os lados do triângulo10 3 2\n",
            "No\n"
          ]
        }
      ]
    },
    {
      "cell_type": "markdown",
      "metadata": {
        "id": "d1yn62y5mZei"
      },
      "source": [
        "4."
      ]
    },
    {
      "cell_type": "code",
      "metadata": {
        "id": "KLUXWldWma07"
      },
      "source": [
        ""
      ],
      "execution_count": null,
      "outputs": []
    }
  ]
}