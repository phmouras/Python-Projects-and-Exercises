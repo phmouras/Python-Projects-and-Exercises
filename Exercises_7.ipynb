{
  "nbformat": 4,
  "nbformat_minor": 0,
  "metadata": {
    "colab": {
      "name": "Exercises_7.ipynb",
      "provenance": [],
      "authorship_tag": "ABX9TyPKw4UdiistyZb3ZTjsf26R",
      "include_colab_link": true
    },
    "kernelspec": {
      "name": "python3",
      "display_name": "Python 3"
    },
    "language_info": {
      "name": "python"
    }
  },
  "cells": [
    {
      "cell_type": "markdown",
      "metadata": {
        "id": "view-in-github",
        "colab_type": "text"
      },
      "source": [
        "<a href=\"https://colab.research.google.com/github/phmouras/Python_Exercises/blob/main/Exercises_7.ipynb\" target=\"_parent\"><img src=\"https://colab.research.google.com/assets/colab-badge.svg\" alt=\"Open In Colab\"/></a>"
      ]
    },
    {
      "cell_type": "markdown",
      "metadata": {
        "id": "KviWEMh0bYpJ"
      },
      "source": [
        "Exercícios Parte 1"
      ]
    },
    {
      "cell_type": "markdown",
      "metadata": {
        "id": "uraTjd5Alem3"
      },
      "source": [
        "1)"
      ]
    },
    {
      "cell_type": "code",
      "metadata": {
        "id": "I__vPENjbWor",
        "colab": {
          "base_uri": "https://localhost:8080/"
        },
        "outputId": "32825316-4212-4f1b-fb7e-eb4afb482736"
      },
      "source": [
        "def collatz(n):\n",
        "  while n > 1:\n",
        "    if n % 2 == 0:\n",
        "      n = n/2\n",
        "    elif n % 2 == 1:\n",
        "      n = 3*n + 1\n",
        "    else:\n",
        "      break\n",
        "    print(n)\n",
        "    \n",
        "  \n",
        "\n",
        "collatz(20)\n",
        "\n",
        "  \n",
        "\n",
        "\n",
        "\n",
        "\n",
        "\n",
        "\n"
      ],
      "execution_count": null,
      "outputs": [
        {
          "output_type": "stream",
          "name": "stdout",
          "text": [
            "10.0\n",
            "5.0\n",
            "16.0\n",
            "8.0\n",
            "4.0\n",
            "2.0\n",
            "1.0\n"
          ]
        }
      ]
    },
    {
      "cell_type": "markdown",
      "metadata": {
        "id": "WSES-c64TNLD"
      },
      "source": [
        "2)"
      ]
    },
    {
      "cell_type": "code",
      "metadata": {
        "colab": {
          "base_uri": "https://localhost:8080/"
        },
        "id": "m8Ec5uoYRVsT",
        "outputId": "1f3180fc-a67d-4b83-804b-332819d6311c"
      },
      "source": [
        "def counter(n):\n",
        "    count = 0\n",
        "    while n!=0:\n",
        "        count = count + 1\n",
        "        n = n // 10         # divisão de inteiros\n",
        "    return count\n",
        "\n",
        "counter(2574)\n",
        "  \n",
        "\n"
      ],
      "execution_count": null,
      "outputs": [
        {
          "output_type": "execute_result",
          "data": {
            "text/plain": [
              "4"
            ]
          },
          "metadata": {},
          "execution_count": 10
        }
      ]
    },
    {
      "cell_type": "markdown",
      "metadata": {
        "id": "5FO4n-WsaCmZ"
      },
      "source": [
        "3)"
      ]
    },
    {
      "cell_type": "code",
      "metadata": {
        "colab": {
          "base_uri": "https://localhost:8080/"
        },
        "id": "SBi9nk5eaCHy",
        "outputId": "f2e68ad6-4988-4c51-f72b-39863dbd6d67"
      },
      "source": [
        "\n",
        "for i in ([2,4,5,8,9]):\n",
        "  if i % 2 == 1:   # If the number is odd\n",
        "    break          #  ... immediately exit the loop  \n",
        "  print(i)    \n",
        "print(\"done\")\n",
        "\n",
        "    \n",
        "\n",
        "\n",
        "\n"
      ],
      "execution_count": 15,
      "outputs": [
        {
          "output_type": "stream",
          "name": "stdout",
          "text": [
            "2\n",
            "4\n",
            "done\n"
          ]
        }
      ]
    },
    {
      "cell_type": "markdown",
      "metadata": {
        "id": "DnP7Q9G4hlZa"
      },
      "source": [
        "4)"
      ]
    },
    {
      "cell_type": "code",
      "metadata": {
        "id": "wKi9VlAKhmbx",
        "colab": {
          "base_uri": "https://localhost:8080/"
        },
        "outputId": "7692b1ab-82a5-4bb1-867b-1088863d4449"
      },
      "source": [
        "import math\n",
        "\n",
        "def sqrt_newton(n, approx):\n",
        "  while n > 1:\n",
        "    melhor = (approx + n/approx)/2\n",
        "    approx = melhor\n",
        "    return melhor\n",
        "  \n",
        "sqrt_newton(49,3)\n",
        "  \n",
        "\n",
        " \n",
        "\n",
        "\n",
        "    \n",
        "\n",
        "\n"
      ],
      "execution_count": 19,
      "outputs": [
        {
          "output_type": "execute_result",
          "data": {
            "text/plain": [
              "9.666666666666666"
            ]
          },
          "metadata": {},
          "execution_count": 19
        }
      ]
    },
    {
      "cell_type": "markdown",
      "metadata": {
        "id": "TAFl-Anr8FCc"
      },
      "source": [
        "Exercícios 2"
      ]
    },
    {
      "cell_type": "markdown",
      "metadata": {
        "id": "FccXG3U78Hkb"
      },
      "source": [
        "1."
      ]
    },
    {
      "cell_type": "code",
      "metadata": {
        "id": "ThrXNkgc8GdM"
      },
      "source": [
        "import time\n",
        "time.time()\n",
        "\n",
        "minutos_anos = 24 * 3600 * 365\n",
        "\n",
        "anos = time.time() // (minutos_anos)\n",
        "\n",
        "print(anos)\n",
        "\n",
        "hora = time.time () // 3600\n",
        "\n",
        "print(hora, 'horas passadas')\n",
        "\n",
        "minutos = time.time() // 60\n",
        "\n",
        "print(minutos)\n",
        "\n",
        "print(int(time.time()))\n",
        "\n",
        "\n",
        "hora_rj = \n"
      ],
      "execution_count": null,
      "outputs": []
    },
    {
      "cell_type": "markdown",
      "metadata": {
        "id": "b8UzYTce-jIL"
      },
      "source": [
        "2."
      ]
    },
    {
      "cell_type": "code",
      "metadata": {
        "id": "4gAA8rAm-lKb"
      },
      "source": [
        "def check_fermat(a, b, c, n):\n",
        "  if n > 2 and a**n + b**n == c**n:\n",
        "    print('Holy smokes, Fermat was wrong!')\n",
        "  else: \n",
        "      print('No, that doesn’t work')\n",
        "\n",
        "check_fermat(5,1,4,2)   "
      ],
      "execution_count": null,
      "outputs": []
    },
    {
      "cell_type": "code",
      "metadata": {
        "id": "Mui0GVIw-mPT"
      },
      "source": [
        ""
      ],
      "execution_count": null,
      "outputs": []
    }
  ]
}